{
  "nbformat": 4,
  "nbformat_minor": 0,
  "metadata": {
    "colab": {
      "provenance": [],
      "authorship_tag": "ABX9TyNkIInEv2YI1lZqi5hpgftX",
      "include_colab_link": true
    },
    "kernelspec": {
      "name": "python3",
      "display_name": "Python 3"
    },
    "language_info": {
      "name": "python"
    }
  },
  "cells": [
    {
      "cell_type": "markdown",
      "metadata": {
        "id": "view-in-github",
        "colab_type": "text"
      },
      "source": [
        "<a href=\"https://colab.research.google.com/github/TannaPrasanthkumar/Virtual-Event-Planner/blob/main/Virtual_Event_Planner.ipynb\" target=\"_parent\"><img src=\"https://colab.research.google.com/assets/colab-badge.svg\" alt=\"Open In Colab\"/></a>"
      ]
    },
    {
      "cell_type": "code",
      "execution_count": 2,
      "metadata": {
        "colab": {
          "base_uri": "https://localhost:8080/"
        },
        "id": "i-GVybG8hePb",
        "outputId": "d2ac0515-cad3-4279-c08b-5cbee591f88d"
      },
      "outputs": [
        {
          "output_type": "stream",
          "name": "stdout",
          "text": [
            "Collecting composio\n",
            "  Downloading composio-0.1.1-py3-none-any.whl.metadata (938 bytes)\n",
            "Collecting composio-core (from composio)\n",
            "  Downloading composio_core-0.7.5-py3-none-any.whl.metadata (12 kB)\n",
            "Requirement already satisfied: aiohttp in /usr/local/lib/python3.11/dist-packages (from composio-core->composio) (3.11.13)\n",
            "Requirement already satisfied: requests<3,>=2.31.0 in /usr/local/lib/python3.11/dist-packages (from composio-core->composio) (2.32.3)\n",
            "Requirement already satisfied: jsonschema<5,>=4.21.1 in /usr/local/lib/python3.11/dist-packages (from composio-core->composio) (4.23.0)\n",
            "Requirement already satisfied: sentry-sdk>=2.0.0 in /usr/local/lib/python3.11/dist-packages (from composio-core->composio) (2.22.0)\n",
            "Collecting pysher==1.0.8 (from composio-core->composio)\n",
            "  Downloading Pysher-1.0.8.tar.gz (9.1 kB)\n",
            "  Preparing metadata (setup.py) ... \u001b[?25l\u001b[?25hdone\n",
            "Requirement already satisfied: pydantic>=2.6.4 in /usr/local/lib/python3.11/dist-packages (from composio-core->composio) (2.10.6)\n",
            "Requirement already satisfied: importlib-metadata>=4.8.1 in /usr/local/lib/python3.11/dist-packages (from composio-core->composio) (8.6.1)\n",
            "Collecting jsonref>=1.1.0 (from composio-core->composio)\n",
            "  Downloading jsonref-1.1.0-py3-none-any.whl.metadata (2.7 kB)\n",
            "Collecting inflection>=0.5.1 (from composio-core->composio)\n",
            "  Downloading inflection-0.5.1-py2.py3-none-any.whl.metadata (1.7 kB)\n",
            "Collecting semver>=2.13.0 (from composio-core->composio)\n",
            "  Downloading semver-3.0.4-py3-none-any.whl.metadata (6.8 kB)\n",
            "Requirement already satisfied: click in /usr/local/lib/python3.11/dist-packages (from composio-core->composio) (8.1.8)\n",
            "Requirement already satisfied: rich<14,>=13.7.1 in /usr/local/lib/python3.11/dist-packages (from composio-core->composio) (13.9.4)\n",
            "Requirement already satisfied: pyperclip<2,>=1.8.2 in /usr/local/lib/python3.11/dist-packages (from composio-core->composio) (1.9.0)\n",
            "Collecting paramiko>=3.4.1 (from composio-core->composio)\n",
            "  Downloading paramiko-3.5.1-py3-none-any.whl.metadata (4.6 kB)\n",
            "Collecting fastapi (from composio-core->composio)\n",
            "  Downloading fastapi-0.115.11-py3-none-any.whl.metadata (27 kB)\n",
            "Collecting uvicorn (from composio-core->composio)\n",
            "  Downloading uvicorn-0.34.0-py3-none-any.whl.metadata (6.5 kB)\n",
            "Requirement already satisfied: pyyaml>=6.0.2 in /usr/local/lib/python3.11/dist-packages (from composio-core->composio) (6.0.2)\n",
            "Requirement already satisfied: websocket-client!=0.49 in /usr/local/lib/python3.11/dist-packages (from pysher==1.0.8->composio-core->composio) (1.8.0)\n",
            "Requirement already satisfied: zipp>=3.20 in /usr/local/lib/python3.11/dist-packages (from importlib-metadata>=4.8.1->composio-core->composio) (3.21.0)\n",
            "Requirement already satisfied: attrs>=22.2.0 in /usr/local/lib/python3.11/dist-packages (from jsonschema<5,>=4.21.1->composio-core->composio) (25.1.0)\n",
            "Requirement already satisfied: jsonschema-specifications>=2023.03.6 in /usr/local/lib/python3.11/dist-packages (from jsonschema<5,>=4.21.1->composio-core->composio) (2024.10.1)\n",
            "Requirement already satisfied: referencing>=0.28.4 in /usr/local/lib/python3.11/dist-packages (from jsonschema<5,>=4.21.1->composio-core->composio) (0.36.2)\n",
            "Requirement already satisfied: rpds-py>=0.7.1 in /usr/local/lib/python3.11/dist-packages (from jsonschema<5,>=4.21.1->composio-core->composio) (0.23.1)\n",
            "Collecting bcrypt>=3.2 (from paramiko>=3.4.1->composio-core->composio)\n",
            "  Downloading bcrypt-4.3.0-cp39-abi3-manylinux_2_34_x86_64.whl.metadata (10 kB)\n",
            "Requirement already satisfied: cryptography>=3.3 in /usr/local/lib/python3.11/dist-packages (from paramiko>=3.4.1->composio-core->composio) (43.0.3)\n",
            "Collecting pynacl>=1.5 (from paramiko>=3.4.1->composio-core->composio)\n",
            "  Downloading PyNaCl-1.5.0-cp36-abi3-manylinux_2_17_x86_64.manylinux2014_x86_64.manylinux_2_24_x86_64.whl.metadata (8.6 kB)\n",
            "Requirement already satisfied: annotated-types>=0.6.0 in /usr/local/lib/python3.11/dist-packages (from pydantic>=2.6.4->composio-core->composio) (0.7.0)\n",
            "Requirement already satisfied: pydantic-core==2.27.2 in /usr/local/lib/python3.11/dist-packages (from pydantic>=2.6.4->composio-core->composio) (2.27.2)\n",
            "Requirement already satisfied: typing-extensions>=4.12.2 in /usr/local/lib/python3.11/dist-packages (from pydantic>=2.6.4->composio-core->composio) (4.12.2)\n",
            "Requirement already satisfied: charset-normalizer<4,>=2 in /usr/local/lib/python3.11/dist-packages (from requests<3,>=2.31.0->composio-core->composio) (3.4.1)\n",
            "Requirement already satisfied: idna<4,>=2.5 in /usr/local/lib/python3.11/dist-packages (from requests<3,>=2.31.0->composio-core->composio) (3.10)\n",
            "Requirement already satisfied: urllib3<3,>=1.21.1 in /usr/local/lib/python3.11/dist-packages (from requests<3,>=2.31.0->composio-core->composio) (2.3.0)\n",
            "Requirement already satisfied: certifi>=2017.4.17 in /usr/local/lib/python3.11/dist-packages (from requests<3,>=2.31.0->composio-core->composio) (2025.1.31)\n",
            "Requirement already satisfied: markdown-it-py>=2.2.0 in /usr/local/lib/python3.11/dist-packages (from rich<14,>=13.7.1->composio-core->composio) (3.0.0)\n",
            "Requirement already satisfied: pygments<3.0.0,>=2.13.0 in /usr/local/lib/python3.11/dist-packages (from rich<14,>=13.7.1->composio-core->composio) (2.18.0)\n",
            "Requirement already satisfied: aiohappyeyeballs>=2.3.0 in /usr/local/lib/python3.11/dist-packages (from aiohttp->composio-core->composio) (2.4.6)\n",
            "Requirement already satisfied: aiosignal>=1.1.2 in /usr/local/lib/python3.11/dist-packages (from aiohttp->composio-core->composio) (1.3.2)\n",
            "Requirement already satisfied: frozenlist>=1.1.1 in /usr/local/lib/python3.11/dist-packages (from aiohttp->composio-core->composio) (1.5.0)\n",
            "Requirement already satisfied: multidict<7.0,>=4.5 in /usr/local/lib/python3.11/dist-packages (from aiohttp->composio-core->composio) (6.1.0)\n",
            "Requirement already satisfied: propcache>=0.2.0 in /usr/local/lib/python3.11/dist-packages (from aiohttp->composio-core->composio) (0.3.0)\n",
            "Requirement already satisfied: yarl<2.0,>=1.17.0 in /usr/local/lib/python3.11/dist-packages (from aiohttp->composio-core->composio) (1.18.3)\n",
            "Collecting starlette<0.47.0,>=0.40.0 (from fastapi->composio-core->composio)\n",
            "  Downloading starlette-0.46.0-py3-none-any.whl.metadata (6.2 kB)\n",
            "Requirement already satisfied: h11>=0.8 in /usr/local/lib/python3.11/dist-packages (from uvicorn->composio-core->composio) (0.14.0)\n",
            "Requirement already satisfied: cffi>=1.12 in /usr/local/lib/python3.11/dist-packages (from cryptography>=3.3->paramiko>=3.4.1->composio-core->composio) (1.17.1)\n",
            "Requirement already satisfied: mdurl~=0.1 in /usr/local/lib/python3.11/dist-packages (from markdown-it-py>=2.2.0->rich<14,>=13.7.1->composio-core->composio) (0.1.2)\n",
            "Requirement already satisfied: anyio<5,>=3.6.2 in /usr/local/lib/python3.11/dist-packages (from starlette<0.47.0,>=0.40.0->fastapi->composio-core->composio) (3.7.1)\n",
            "Requirement already satisfied: sniffio>=1.1 in /usr/local/lib/python3.11/dist-packages (from anyio<5,>=3.6.2->starlette<0.47.0,>=0.40.0->fastapi->composio-core->composio) (1.3.1)\n",
            "Requirement already satisfied: pycparser in /usr/local/lib/python3.11/dist-packages (from cffi>=1.12->cryptography>=3.3->paramiko>=3.4.1->composio-core->composio) (2.22)\n",
            "Downloading composio-0.1.1-py3-none-any.whl (1.2 kB)\n",
            "Downloading composio_core-0.7.5-py3-none-any.whl (481 kB)\n",
            "\u001b[2K   \u001b[90m━━━━━━━━━━━━━━━━━━━━━━━━━━━━━━━━━━━━━━━━\u001b[0m \u001b[32m481.8/481.8 kB\u001b[0m \u001b[31m16.2 MB/s\u001b[0m eta \u001b[36m0:00:00\u001b[0m\n",
            "\u001b[?25hDownloading inflection-0.5.1-py2.py3-none-any.whl (9.5 kB)\n",
            "Downloading jsonref-1.1.0-py3-none-any.whl (9.4 kB)\n",
            "Downloading paramiko-3.5.1-py3-none-any.whl (227 kB)\n",
            "\u001b[2K   \u001b[90m━━━━━━━━━━━━━━━━━━━━━━━━━━━━━━━━━━━━━━━━\u001b[0m \u001b[32m227.3/227.3 kB\u001b[0m \u001b[31m20.2 MB/s\u001b[0m eta \u001b[36m0:00:00\u001b[0m\n",
            "\u001b[?25hDownloading semver-3.0.4-py3-none-any.whl (17 kB)\n",
            "Downloading fastapi-0.115.11-py3-none-any.whl (94 kB)\n",
            "\u001b[2K   \u001b[90m━━━━━━━━━━━━━━━━━━━━━━━━━━━━━━━━━━━━━━━━\u001b[0m \u001b[32m94.9/94.9 kB\u001b[0m \u001b[31m10.4 MB/s\u001b[0m eta \u001b[36m0:00:00\u001b[0m\n",
            "\u001b[?25hDownloading uvicorn-0.34.0-py3-none-any.whl (62 kB)\n",
            "\u001b[2K   \u001b[90m━━━━━━━━━━━━━━━━━━━━━━━━━━━━━━━━━━━━━━━━\u001b[0m \u001b[32m62.3/62.3 kB\u001b[0m \u001b[31m6.6 MB/s\u001b[0m eta \u001b[36m0:00:00\u001b[0m\n",
            "\u001b[?25hDownloading bcrypt-4.3.0-cp39-abi3-manylinux_2_34_x86_64.whl (284 kB)\n",
            "\u001b[2K   \u001b[90m━━━━━━━━━━━━━━━━━━━━━━━━━━━━━━━━━━━━━━━━\u001b[0m \u001b[32m284.2/284.2 kB\u001b[0m \u001b[31m23.3 MB/s\u001b[0m eta \u001b[36m0:00:00\u001b[0m\n",
            "\u001b[?25hDownloading PyNaCl-1.5.0-cp36-abi3-manylinux_2_17_x86_64.manylinux2014_x86_64.manylinux_2_24_x86_64.whl (856 kB)\n",
            "\u001b[2K   \u001b[90m━━━━━━━━━━━━━━━━━━━━━━━━━━━━━━━━━━━━━━━━\u001b[0m \u001b[32m856.7/856.7 kB\u001b[0m \u001b[31m42.7 MB/s\u001b[0m eta \u001b[36m0:00:00\u001b[0m\n",
            "\u001b[?25hDownloading starlette-0.46.0-py3-none-any.whl (71 kB)\n",
            "\u001b[2K   \u001b[90m━━━━━━━━━━━━━━━━━━━━━━━━━━━━━━━━━━━━━━━━\u001b[0m \u001b[32m72.0/72.0 kB\u001b[0m \u001b[31m5.9 MB/s\u001b[0m eta \u001b[36m0:00:00\u001b[0m\n",
            "\u001b[?25hBuilding wheels for collected packages: pysher\n",
            "  Building wheel for pysher (setup.py) ... \u001b[?25l\u001b[?25hdone\n",
            "  Created wheel for pysher: filename=Pysher-1.0.8-py3-none-any.whl size=9889 sha256=4daab17841bf75ea98b8a30a8edc8f47d5a34acd1c00527fae44f99fbf7e306d\n",
            "  Stored in directory: /root/.cache/pip/wheels/79/f8/4a/46e34939a44ed8992d6931a3358b547b048aa987c0e7c6d551\n",
            "Successfully built pysher\n",
            "Installing collected packages: uvicorn, semver, jsonref, inflection, bcrypt, starlette, pysher, pynacl, paramiko, fastapi, composio-core, composio\n",
            "Successfully installed bcrypt-4.3.0 composio-0.1.1 composio-core-0.7.5 fastapi-0.115.11 inflection-0.5.1 jsonref-1.1.0 paramiko-3.5.1 pynacl-1.5.0 pysher-1.0.8 semver-3.0.4 starlette-0.46.0 uvicorn-0.34.0\n"
          ]
        }
      ],
      "source": [
        "!pip install composio"
      ]
    },
    {
      "cell_type": "code",
      "source": [
        "!pip install langchain"
      ],
      "metadata": {
        "colab": {
          "base_uri": "https://localhost:8080/"
        },
        "id": "rXo9SHhAhoMU",
        "outputId": "8fe9a129-d9d1-4821-aba7-11763ffd9231"
      },
      "execution_count": 3,
      "outputs": [
        {
          "output_type": "stream",
          "name": "stdout",
          "text": [
            "Requirement already satisfied: langchain in /usr/local/lib/python3.11/dist-packages (0.3.19)\n",
            "Requirement already satisfied: langchain-core<1.0.0,>=0.3.35 in /usr/local/lib/python3.11/dist-packages (from langchain) (0.3.40)\n",
            "Requirement already satisfied: langchain-text-splitters<1.0.0,>=0.3.6 in /usr/local/lib/python3.11/dist-packages (from langchain) (0.3.6)\n",
            "Requirement already satisfied: langsmith<0.4,>=0.1.17 in /usr/local/lib/python3.11/dist-packages (from langchain) (0.3.11)\n",
            "Requirement already satisfied: pydantic<3.0.0,>=2.7.4 in /usr/local/lib/python3.11/dist-packages (from langchain) (2.10.6)\n",
            "Requirement already satisfied: SQLAlchemy<3,>=1.4 in /usr/local/lib/python3.11/dist-packages (from langchain) (2.0.38)\n",
            "Requirement already satisfied: requests<3,>=2 in /usr/local/lib/python3.11/dist-packages (from langchain) (2.32.3)\n",
            "Requirement already satisfied: PyYAML>=5.3 in /usr/local/lib/python3.11/dist-packages (from langchain) (6.0.2)\n",
            "Requirement already satisfied: aiohttp<4.0.0,>=3.8.3 in /usr/local/lib/python3.11/dist-packages (from langchain) (3.11.13)\n",
            "Requirement already satisfied: tenacity!=8.4.0,<10,>=8.1.0 in /usr/local/lib/python3.11/dist-packages (from langchain) (9.0.0)\n",
            "Requirement already satisfied: numpy<2,>=1.26.4 in /usr/local/lib/python3.11/dist-packages (from langchain) (1.26.4)\n",
            "Requirement already satisfied: aiohappyeyeballs>=2.3.0 in /usr/local/lib/python3.11/dist-packages (from aiohttp<4.0.0,>=3.8.3->langchain) (2.4.6)\n",
            "Requirement already satisfied: aiosignal>=1.1.2 in /usr/local/lib/python3.11/dist-packages (from aiohttp<4.0.0,>=3.8.3->langchain) (1.3.2)\n",
            "Requirement already satisfied: attrs>=17.3.0 in /usr/local/lib/python3.11/dist-packages (from aiohttp<4.0.0,>=3.8.3->langchain) (25.1.0)\n",
            "Requirement already satisfied: frozenlist>=1.1.1 in /usr/local/lib/python3.11/dist-packages (from aiohttp<4.0.0,>=3.8.3->langchain) (1.5.0)\n",
            "Requirement already satisfied: multidict<7.0,>=4.5 in /usr/local/lib/python3.11/dist-packages (from aiohttp<4.0.0,>=3.8.3->langchain) (6.1.0)\n",
            "Requirement already satisfied: propcache>=0.2.0 in /usr/local/lib/python3.11/dist-packages (from aiohttp<4.0.0,>=3.8.3->langchain) (0.3.0)\n",
            "Requirement already satisfied: yarl<2.0,>=1.17.0 in /usr/local/lib/python3.11/dist-packages (from aiohttp<4.0.0,>=3.8.3->langchain) (1.18.3)\n",
            "Requirement already satisfied: jsonpatch<2.0,>=1.33 in /usr/local/lib/python3.11/dist-packages (from langchain-core<1.0.0,>=0.3.35->langchain) (1.33)\n",
            "Requirement already satisfied: packaging<25,>=23.2 in /usr/local/lib/python3.11/dist-packages (from langchain-core<1.0.0,>=0.3.35->langchain) (24.2)\n",
            "Requirement already satisfied: typing-extensions>=4.7 in /usr/local/lib/python3.11/dist-packages (from langchain-core<1.0.0,>=0.3.35->langchain) (4.12.2)\n",
            "Requirement already satisfied: httpx<1,>=0.23.0 in /usr/local/lib/python3.11/dist-packages (from langsmith<0.4,>=0.1.17->langchain) (0.28.1)\n",
            "Requirement already satisfied: orjson<4.0.0,>=3.9.14 in /usr/local/lib/python3.11/dist-packages (from langsmith<0.4,>=0.1.17->langchain) (3.10.15)\n",
            "Requirement already satisfied: requests-toolbelt<2.0.0,>=1.0.0 in /usr/local/lib/python3.11/dist-packages (from langsmith<0.4,>=0.1.17->langchain) (1.0.0)\n",
            "Requirement already satisfied: zstandard<0.24.0,>=0.23.0 in /usr/local/lib/python3.11/dist-packages (from langsmith<0.4,>=0.1.17->langchain) (0.23.0)\n",
            "Requirement already satisfied: annotated-types>=0.6.0 in /usr/local/lib/python3.11/dist-packages (from pydantic<3.0.0,>=2.7.4->langchain) (0.7.0)\n",
            "Requirement already satisfied: pydantic-core==2.27.2 in /usr/local/lib/python3.11/dist-packages (from pydantic<3.0.0,>=2.7.4->langchain) (2.27.2)\n",
            "Requirement already satisfied: charset-normalizer<4,>=2 in /usr/local/lib/python3.11/dist-packages (from requests<3,>=2->langchain) (3.4.1)\n",
            "Requirement already satisfied: idna<4,>=2.5 in /usr/local/lib/python3.11/dist-packages (from requests<3,>=2->langchain) (3.10)\n",
            "Requirement already satisfied: urllib3<3,>=1.21.1 in /usr/local/lib/python3.11/dist-packages (from requests<3,>=2->langchain) (2.3.0)\n",
            "Requirement already satisfied: certifi>=2017.4.17 in /usr/local/lib/python3.11/dist-packages (from requests<3,>=2->langchain) (2025.1.31)\n",
            "Requirement already satisfied: greenlet!=0.4.17 in /usr/local/lib/python3.11/dist-packages (from SQLAlchemy<3,>=1.4->langchain) (3.1.1)\n",
            "Requirement already satisfied: anyio in /usr/local/lib/python3.11/dist-packages (from httpx<1,>=0.23.0->langsmith<0.4,>=0.1.17->langchain) (3.7.1)\n",
            "Requirement already satisfied: httpcore==1.* in /usr/local/lib/python3.11/dist-packages (from httpx<1,>=0.23.0->langsmith<0.4,>=0.1.17->langchain) (1.0.7)\n",
            "Requirement already satisfied: h11<0.15,>=0.13 in /usr/local/lib/python3.11/dist-packages (from httpcore==1.*->httpx<1,>=0.23.0->langsmith<0.4,>=0.1.17->langchain) (0.14.0)\n",
            "Requirement already satisfied: jsonpointer>=1.9 in /usr/local/lib/python3.11/dist-packages (from jsonpatch<2.0,>=1.33->langchain-core<1.0.0,>=0.3.35->langchain) (3.0.0)\n",
            "Requirement already satisfied: sniffio>=1.1 in /usr/local/lib/python3.11/dist-packages (from anyio->httpx<1,>=0.23.0->langsmith<0.4,>=0.1.17->langchain) (1.3.1)\n"
          ]
        }
      ]
    },
    {
      "cell_type": "code",
      "source": [
        "!pip install composio-langchain\n",
        "!pip install langchain-groq"
      ],
      "metadata": {
        "colab": {
          "base_uri": "https://localhost:8080/"
        },
        "id": "MVh2DqkRh2Jv",
        "outputId": "c3a382dd-a679-468d-baef-85fe751a92aa"
      },
      "execution_count": 4,
      "outputs": [
        {
          "output_type": "stream",
          "name": "stdout",
          "text": [
            "Collecting composio-langchain\n",
            "  Downloading composio_langchain-0.7.5-py3-none-any.whl.metadata (3.4 kB)\n",
            "Requirement already satisfied: langchain>=0.1.0 in /usr/local/lib/python3.11/dist-packages (from composio-langchain) (0.3.19)\n",
            "Collecting langchain-openai>=0.0.2.post1 (from composio-langchain)\n",
            "  Downloading langchain_openai-0.3.7-py3-none-any.whl.metadata (2.3 kB)\n",
            "Requirement already satisfied: pydantic>=2.6.4 in /usr/local/lib/python3.11/dist-packages (from composio-langchain) (2.10.6)\n",
            "Collecting langchainhub>=0.1.15 (from composio-langchain)\n",
            "  Downloading langchainhub-0.1.21-py3-none-any.whl.metadata (659 bytes)\n",
            "Requirement already satisfied: composio_core<0.8.0,>=0.7.0 in /usr/local/lib/python3.11/dist-packages (from composio-langchain) (0.7.5)\n",
            "Requirement already satisfied: aiohttp in /usr/local/lib/python3.11/dist-packages (from composio_core<0.8.0,>=0.7.0->composio-langchain) (3.11.13)\n",
            "Requirement already satisfied: requests<3,>=2.31.0 in /usr/local/lib/python3.11/dist-packages (from composio_core<0.8.0,>=0.7.0->composio-langchain) (2.32.3)\n",
            "Requirement already satisfied: jsonschema<5,>=4.21.1 in /usr/local/lib/python3.11/dist-packages (from composio_core<0.8.0,>=0.7.0->composio-langchain) (4.23.0)\n",
            "Requirement already satisfied: sentry-sdk>=2.0.0 in /usr/local/lib/python3.11/dist-packages (from composio_core<0.8.0,>=0.7.0->composio-langchain) (2.22.0)\n",
            "Requirement already satisfied: pysher==1.0.8 in /usr/local/lib/python3.11/dist-packages (from composio_core<0.8.0,>=0.7.0->composio-langchain) (1.0.8)\n",
            "Requirement already satisfied: importlib-metadata>=4.8.1 in /usr/local/lib/python3.11/dist-packages (from composio_core<0.8.0,>=0.7.0->composio-langchain) (8.6.1)\n",
            "Requirement already satisfied: jsonref>=1.1.0 in /usr/local/lib/python3.11/dist-packages (from composio_core<0.8.0,>=0.7.0->composio-langchain) (1.1.0)\n",
            "Requirement already satisfied: inflection>=0.5.1 in /usr/local/lib/python3.11/dist-packages (from composio_core<0.8.0,>=0.7.0->composio-langchain) (0.5.1)\n",
            "Requirement already satisfied: semver>=2.13.0 in /usr/local/lib/python3.11/dist-packages (from composio_core<0.8.0,>=0.7.0->composio-langchain) (3.0.4)\n",
            "Requirement already satisfied: click in /usr/local/lib/python3.11/dist-packages (from composio_core<0.8.0,>=0.7.0->composio-langchain) (8.1.8)\n",
            "Requirement already satisfied: rich<14,>=13.7.1 in /usr/local/lib/python3.11/dist-packages (from composio_core<0.8.0,>=0.7.0->composio-langchain) (13.9.4)\n",
            "Requirement already satisfied: pyperclip<2,>=1.8.2 in /usr/local/lib/python3.11/dist-packages (from composio_core<0.8.0,>=0.7.0->composio-langchain) (1.9.0)\n",
            "Requirement already satisfied: paramiko>=3.4.1 in /usr/local/lib/python3.11/dist-packages (from composio_core<0.8.0,>=0.7.0->composio-langchain) (3.5.1)\n",
            "Requirement already satisfied: fastapi in /usr/local/lib/python3.11/dist-packages (from composio_core<0.8.0,>=0.7.0->composio-langchain) (0.115.11)\n",
            "Requirement already satisfied: uvicorn in /usr/local/lib/python3.11/dist-packages (from composio_core<0.8.0,>=0.7.0->composio-langchain) (0.34.0)\n",
            "Requirement already satisfied: pyyaml>=6.0.2 in /usr/local/lib/python3.11/dist-packages (from composio_core<0.8.0,>=0.7.0->composio-langchain) (6.0.2)\n",
            "Requirement already satisfied: websocket-client!=0.49 in /usr/local/lib/python3.11/dist-packages (from pysher==1.0.8->composio_core<0.8.0,>=0.7.0->composio-langchain) (1.8.0)\n",
            "Requirement already satisfied: langchain-core<1.0.0,>=0.3.35 in /usr/local/lib/python3.11/dist-packages (from langchain>=0.1.0->composio-langchain) (0.3.40)\n",
            "Requirement already satisfied: langchain-text-splitters<1.0.0,>=0.3.6 in /usr/local/lib/python3.11/dist-packages (from langchain>=0.1.0->composio-langchain) (0.3.6)\n",
            "Requirement already satisfied: langsmith<0.4,>=0.1.17 in /usr/local/lib/python3.11/dist-packages (from langchain>=0.1.0->composio-langchain) (0.3.11)\n",
            "Requirement already satisfied: SQLAlchemy<3,>=1.4 in /usr/local/lib/python3.11/dist-packages (from langchain>=0.1.0->composio-langchain) (2.0.38)\n",
            "Requirement already satisfied: tenacity!=8.4.0,<10,>=8.1.0 in /usr/local/lib/python3.11/dist-packages (from langchain>=0.1.0->composio-langchain) (9.0.0)\n",
            "Requirement already satisfied: numpy<2,>=1.26.4 in /usr/local/lib/python3.11/dist-packages (from langchain>=0.1.0->composio-langchain) (1.26.4)\n",
            "Requirement already satisfied: openai<2.0.0,>=1.58.1 in /usr/local/lib/python3.11/dist-packages (from langchain-openai>=0.0.2.post1->composio-langchain) (1.61.1)\n",
            "Collecting tiktoken<1,>=0.7 (from langchain-openai>=0.0.2.post1->composio-langchain)\n",
            "  Downloading tiktoken-0.9.0-cp311-cp311-manylinux_2_17_x86_64.manylinux2014_x86_64.whl.metadata (6.7 kB)\n",
            "Requirement already satisfied: packaging<25,>=23.2 in /usr/local/lib/python3.11/dist-packages (from langchainhub>=0.1.15->composio-langchain) (24.2)\n",
            "Collecting types-requests<3.0.0.0,>=2.31.0.2 (from langchainhub>=0.1.15->composio-langchain)\n",
            "  Downloading types_requests-2.32.0.20250301-py3-none-any.whl.metadata (2.3 kB)\n",
            "Requirement already satisfied: annotated-types>=0.6.0 in /usr/local/lib/python3.11/dist-packages (from pydantic>=2.6.4->composio-langchain) (0.7.0)\n",
            "Requirement already satisfied: pydantic-core==2.27.2 in /usr/local/lib/python3.11/dist-packages (from pydantic>=2.6.4->composio-langchain) (2.27.2)\n",
            "Requirement already satisfied: typing-extensions>=4.12.2 in /usr/local/lib/python3.11/dist-packages (from pydantic>=2.6.4->composio-langchain) (4.12.2)\n",
            "Requirement already satisfied: aiohappyeyeballs>=2.3.0 in /usr/local/lib/python3.11/dist-packages (from aiohttp->composio_core<0.8.0,>=0.7.0->composio-langchain) (2.4.6)\n",
            "Requirement already satisfied: aiosignal>=1.1.2 in /usr/local/lib/python3.11/dist-packages (from aiohttp->composio_core<0.8.0,>=0.7.0->composio-langchain) (1.3.2)\n",
            "Requirement already satisfied: attrs>=17.3.0 in /usr/local/lib/python3.11/dist-packages (from aiohttp->composio_core<0.8.0,>=0.7.0->composio-langchain) (25.1.0)\n",
            "Requirement already satisfied: frozenlist>=1.1.1 in /usr/local/lib/python3.11/dist-packages (from aiohttp->composio_core<0.8.0,>=0.7.0->composio-langchain) (1.5.0)\n",
            "Requirement already satisfied: multidict<7.0,>=4.5 in /usr/local/lib/python3.11/dist-packages (from aiohttp->composio_core<0.8.0,>=0.7.0->composio-langchain) (6.1.0)\n",
            "Requirement already satisfied: propcache>=0.2.0 in /usr/local/lib/python3.11/dist-packages (from aiohttp->composio_core<0.8.0,>=0.7.0->composio-langchain) (0.3.0)\n",
            "Requirement already satisfied: yarl<2.0,>=1.17.0 in /usr/local/lib/python3.11/dist-packages (from aiohttp->composio_core<0.8.0,>=0.7.0->composio-langchain) (1.18.3)\n",
            "Requirement already satisfied: zipp>=3.20 in /usr/local/lib/python3.11/dist-packages (from importlib-metadata>=4.8.1->composio_core<0.8.0,>=0.7.0->composio-langchain) (3.21.0)\n",
            "Requirement already satisfied: jsonschema-specifications>=2023.03.6 in /usr/local/lib/python3.11/dist-packages (from jsonschema<5,>=4.21.1->composio_core<0.8.0,>=0.7.0->composio-langchain) (2024.10.1)\n",
            "Requirement already satisfied: referencing>=0.28.4 in /usr/local/lib/python3.11/dist-packages (from jsonschema<5,>=4.21.1->composio_core<0.8.0,>=0.7.0->composio-langchain) (0.36.2)\n",
            "Requirement already satisfied: rpds-py>=0.7.1 in /usr/local/lib/python3.11/dist-packages (from jsonschema<5,>=4.21.1->composio_core<0.8.0,>=0.7.0->composio-langchain) (0.23.1)\n",
            "Requirement already satisfied: jsonpatch<2.0,>=1.33 in /usr/local/lib/python3.11/dist-packages (from langchain-core<1.0.0,>=0.3.35->langchain>=0.1.0->composio-langchain) (1.33)\n",
            "Requirement already satisfied: httpx<1,>=0.23.0 in /usr/local/lib/python3.11/dist-packages (from langsmith<0.4,>=0.1.17->langchain>=0.1.0->composio-langchain) (0.28.1)\n",
            "Requirement already satisfied: orjson<4.0.0,>=3.9.14 in /usr/local/lib/python3.11/dist-packages (from langsmith<0.4,>=0.1.17->langchain>=0.1.0->composio-langchain) (3.10.15)\n",
            "Requirement already satisfied: requests-toolbelt<2.0.0,>=1.0.0 in /usr/local/lib/python3.11/dist-packages (from langsmith<0.4,>=0.1.17->langchain>=0.1.0->composio-langchain) (1.0.0)\n",
            "Requirement already satisfied: zstandard<0.24.0,>=0.23.0 in /usr/local/lib/python3.11/dist-packages (from langsmith<0.4,>=0.1.17->langchain>=0.1.0->composio-langchain) (0.23.0)\n",
            "Requirement already satisfied: anyio<5,>=3.5.0 in /usr/local/lib/python3.11/dist-packages (from openai<2.0.0,>=1.58.1->langchain-openai>=0.0.2.post1->composio-langchain) (3.7.1)\n",
            "Requirement already satisfied: distro<2,>=1.7.0 in /usr/local/lib/python3.11/dist-packages (from openai<2.0.0,>=1.58.1->langchain-openai>=0.0.2.post1->composio-langchain) (1.9.0)\n",
            "Requirement already satisfied: jiter<1,>=0.4.0 in /usr/local/lib/python3.11/dist-packages (from openai<2.0.0,>=1.58.1->langchain-openai>=0.0.2.post1->composio-langchain) (0.8.2)\n",
            "Requirement already satisfied: sniffio in /usr/local/lib/python3.11/dist-packages (from openai<2.0.0,>=1.58.1->langchain-openai>=0.0.2.post1->composio-langchain) (1.3.1)\n",
            "Requirement already satisfied: tqdm>4 in /usr/local/lib/python3.11/dist-packages (from openai<2.0.0,>=1.58.1->langchain-openai>=0.0.2.post1->composio-langchain) (4.67.1)\n",
            "Requirement already satisfied: bcrypt>=3.2 in /usr/local/lib/python3.11/dist-packages (from paramiko>=3.4.1->composio_core<0.8.0,>=0.7.0->composio-langchain) (4.3.0)\n",
            "Requirement already satisfied: cryptography>=3.3 in /usr/local/lib/python3.11/dist-packages (from paramiko>=3.4.1->composio_core<0.8.0,>=0.7.0->composio-langchain) (43.0.3)\n",
            "Requirement already satisfied: pynacl>=1.5 in /usr/local/lib/python3.11/dist-packages (from paramiko>=3.4.1->composio_core<0.8.0,>=0.7.0->composio-langchain) (1.5.0)\n",
            "Requirement already satisfied: charset-normalizer<4,>=2 in /usr/local/lib/python3.11/dist-packages (from requests<3,>=2.31.0->composio_core<0.8.0,>=0.7.0->composio-langchain) (3.4.1)\n",
            "Requirement already satisfied: idna<4,>=2.5 in /usr/local/lib/python3.11/dist-packages (from requests<3,>=2.31.0->composio_core<0.8.0,>=0.7.0->composio-langchain) (3.10)\n",
            "Requirement already satisfied: urllib3<3,>=1.21.1 in /usr/local/lib/python3.11/dist-packages (from requests<3,>=2.31.0->composio_core<0.8.0,>=0.7.0->composio-langchain) (2.3.0)\n",
            "Requirement already satisfied: certifi>=2017.4.17 in /usr/local/lib/python3.11/dist-packages (from requests<3,>=2.31.0->composio_core<0.8.0,>=0.7.0->composio-langchain) (2025.1.31)\n",
            "Requirement already satisfied: markdown-it-py>=2.2.0 in /usr/local/lib/python3.11/dist-packages (from rich<14,>=13.7.1->composio_core<0.8.0,>=0.7.0->composio-langchain) (3.0.0)\n",
            "Requirement already satisfied: pygments<3.0.0,>=2.13.0 in /usr/local/lib/python3.11/dist-packages (from rich<14,>=13.7.1->composio_core<0.8.0,>=0.7.0->composio-langchain) (2.18.0)\n",
            "Requirement already satisfied: greenlet!=0.4.17 in /usr/local/lib/python3.11/dist-packages (from SQLAlchemy<3,>=1.4->langchain>=0.1.0->composio-langchain) (3.1.1)\n",
            "Requirement already satisfied: regex>=2022.1.18 in /usr/local/lib/python3.11/dist-packages (from tiktoken<1,>=0.7->langchain-openai>=0.0.2.post1->composio-langchain) (2024.11.6)\n",
            "Requirement already satisfied: starlette<0.47.0,>=0.40.0 in /usr/local/lib/python3.11/dist-packages (from fastapi->composio_core<0.8.0,>=0.7.0->composio-langchain) (0.46.0)\n",
            "Requirement already satisfied: h11>=0.8 in /usr/local/lib/python3.11/dist-packages (from uvicorn->composio_core<0.8.0,>=0.7.0->composio-langchain) (0.14.0)\n",
            "Requirement already satisfied: cffi>=1.12 in /usr/local/lib/python3.11/dist-packages (from cryptography>=3.3->paramiko>=3.4.1->composio_core<0.8.0,>=0.7.0->composio-langchain) (1.17.1)\n",
            "Requirement already satisfied: httpcore==1.* in /usr/local/lib/python3.11/dist-packages (from httpx<1,>=0.23.0->langsmith<0.4,>=0.1.17->langchain>=0.1.0->composio-langchain) (1.0.7)\n",
            "Requirement already satisfied: jsonpointer>=1.9 in /usr/local/lib/python3.11/dist-packages (from jsonpatch<2.0,>=1.33->langchain-core<1.0.0,>=0.3.35->langchain>=0.1.0->composio-langchain) (3.0.0)\n",
            "Requirement already satisfied: mdurl~=0.1 in /usr/local/lib/python3.11/dist-packages (from markdown-it-py>=2.2.0->rich<14,>=13.7.1->composio_core<0.8.0,>=0.7.0->composio-langchain) (0.1.2)\n",
            "Requirement already satisfied: pycparser in /usr/local/lib/python3.11/dist-packages (from cffi>=1.12->cryptography>=3.3->paramiko>=3.4.1->composio_core<0.8.0,>=0.7.0->composio-langchain) (2.22)\n",
            "Downloading composio_langchain-0.7.5-py3-none-any.whl (4.8 kB)\n",
            "Downloading langchain_openai-0.3.7-py3-none-any.whl (55 kB)\n",
            "\u001b[2K   \u001b[90m━━━━━━━━━━━━━━━━━━━━━━━━━━━━━━━━━━━━━━━━\u001b[0m \u001b[32m55.3/55.3 kB\u001b[0m \u001b[31m4.2 MB/s\u001b[0m eta \u001b[36m0:00:00\u001b[0m\n",
            "\u001b[?25hDownloading langchainhub-0.1.21-py3-none-any.whl (5.2 kB)\n",
            "Downloading tiktoken-0.9.0-cp311-cp311-manylinux_2_17_x86_64.manylinux2014_x86_64.whl (1.2 MB)\n",
            "\u001b[2K   \u001b[90m━━━━━━━━━━━━━━━━━━━━━━━━━━━━━━━━━━━━━━━━\u001b[0m \u001b[32m1.2/1.2 MB\u001b[0m \u001b[31m21.6 MB/s\u001b[0m eta \u001b[36m0:00:00\u001b[0m\n",
            "\u001b[?25hDownloading types_requests-2.32.0.20250301-py3-none-any.whl (20 kB)\n",
            "Installing collected packages: types-requests, tiktoken, langchainhub, langchain-openai, composio-langchain\n",
            "Successfully installed composio-langchain-0.7.5 langchain-openai-0.3.7 langchainhub-0.1.21 tiktoken-0.9.0 types-requests-2.32.0.20250301\n",
            "Collecting langchain-groq\n",
            "  Downloading langchain_groq-0.2.4-py3-none-any.whl.metadata (3.0 kB)\n",
            "Collecting groq<1,>=0.4.1 (from langchain-groq)\n",
            "  Downloading groq-0.18.0-py3-none-any.whl.metadata (14 kB)\n",
            "Requirement already satisfied: langchain-core<0.4.0,>=0.3.33 in /usr/local/lib/python3.11/dist-packages (from langchain-groq) (0.3.40)\n",
            "Requirement already satisfied: anyio<5,>=3.5.0 in /usr/local/lib/python3.11/dist-packages (from groq<1,>=0.4.1->langchain-groq) (3.7.1)\n",
            "Requirement already satisfied: distro<2,>=1.7.0 in /usr/local/lib/python3.11/dist-packages (from groq<1,>=0.4.1->langchain-groq) (1.9.0)\n",
            "Requirement already satisfied: httpx<1,>=0.23.0 in /usr/local/lib/python3.11/dist-packages (from groq<1,>=0.4.1->langchain-groq) (0.28.1)\n",
            "Requirement already satisfied: pydantic<3,>=1.9.0 in /usr/local/lib/python3.11/dist-packages (from groq<1,>=0.4.1->langchain-groq) (2.10.6)\n",
            "Requirement already satisfied: sniffio in /usr/local/lib/python3.11/dist-packages (from groq<1,>=0.4.1->langchain-groq) (1.3.1)\n",
            "Requirement already satisfied: typing-extensions<5,>=4.10 in /usr/local/lib/python3.11/dist-packages (from groq<1,>=0.4.1->langchain-groq) (4.12.2)\n",
            "Requirement already satisfied: langsmith<0.4,>=0.1.125 in /usr/local/lib/python3.11/dist-packages (from langchain-core<0.4.0,>=0.3.33->langchain-groq) (0.3.11)\n",
            "Requirement already satisfied: tenacity!=8.4.0,<10.0.0,>=8.1.0 in /usr/local/lib/python3.11/dist-packages (from langchain-core<0.4.0,>=0.3.33->langchain-groq) (9.0.0)\n",
            "Requirement already satisfied: jsonpatch<2.0,>=1.33 in /usr/local/lib/python3.11/dist-packages (from langchain-core<0.4.0,>=0.3.33->langchain-groq) (1.33)\n",
            "Requirement already satisfied: PyYAML>=5.3 in /usr/local/lib/python3.11/dist-packages (from langchain-core<0.4.0,>=0.3.33->langchain-groq) (6.0.2)\n",
            "Requirement already satisfied: packaging<25,>=23.2 in /usr/local/lib/python3.11/dist-packages (from langchain-core<0.4.0,>=0.3.33->langchain-groq) (24.2)\n",
            "Requirement already satisfied: idna>=2.8 in /usr/local/lib/python3.11/dist-packages (from anyio<5,>=3.5.0->groq<1,>=0.4.1->langchain-groq) (3.10)\n",
            "Requirement already satisfied: certifi in /usr/local/lib/python3.11/dist-packages (from httpx<1,>=0.23.0->groq<1,>=0.4.1->langchain-groq) (2025.1.31)\n",
            "Requirement already satisfied: httpcore==1.* in /usr/local/lib/python3.11/dist-packages (from httpx<1,>=0.23.0->groq<1,>=0.4.1->langchain-groq) (1.0.7)\n",
            "Requirement already satisfied: h11<0.15,>=0.13 in /usr/local/lib/python3.11/dist-packages (from httpcore==1.*->httpx<1,>=0.23.0->groq<1,>=0.4.1->langchain-groq) (0.14.0)\n",
            "Requirement already satisfied: jsonpointer>=1.9 in /usr/local/lib/python3.11/dist-packages (from jsonpatch<2.0,>=1.33->langchain-core<0.4.0,>=0.3.33->langchain-groq) (3.0.0)\n",
            "Requirement already satisfied: orjson<4.0.0,>=3.9.14 in /usr/local/lib/python3.11/dist-packages (from langsmith<0.4,>=0.1.125->langchain-core<0.4.0,>=0.3.33->langchain-groq) (3.10.15)\n",
            "Requirement already satisfied: requests<3,>=2 in /usr/local/lib/python3.11/dist-packages (from langsmith<0.4,>=0.1.125->langchain-core<0.4.0,>=0.3.33->langchain-groq) (2.32.3)\n",
            "Requirement already satisfied: requests-toolbelt<2.0.0,>=1.0.0 in /usr/local/lib/python3.11/dist-packages (from langsmith<0.4,>=0.1.125->langchain-core<0.4.0,>=0.3.33->langchain-groq) (1.0.0)\n",
            "Requirement already satisfied: zstandard<0.24.0,>=0.23.0 in /usr/local/lib/python3.11/dist-packages (from langsmith<0.4,>=0.1.125->langchain-core<0.4.0,>=0.3.33->langchain-groq) (0.23.0)\n",
            "Requirement already satisfied: annotated-types>=0.6.0 in /usr/local/lib/python3.11/dist-packages (from pydantic<3,>=1.9.0->groq<1,>=0.4.1->langchain-groq) (0.7.0)\n",
            "Requirement already satisfied: pydantic-core==2.27.2 in /usr/local/lib/python3.11/dist-packages (from pydantic<3,>=1.9.0->groq<1,>=0.4.1->langchain-groq) (2.27.2)\n",
            "Requirement already satisfied: charset-normalizer<4,>=2 in /usr/local/lib/python3.11/dist-packages (from requests<3,>=2->langsmith<0.4,>=0.1.125->langchain-core<0.4.0,>=0.3.33->langchain-groq) (3.4.1)\n",
            "Requirement already satisfied: urllib3<3,>=1.21.1 in /usr/local/lib/python3.11/dist-packages (from requests<3,>=2->langsmith<0.4,>=0.1.125->langchain-core<0.4.0,>=0.3.33->langchain-groq) (2.3.0)\n",
            "Downloading langchain_groq-0.2.4-py3-none-any.whl (14 kB)\n",
            "Downloading groq-0.18.0-py3-none-any.whl (121 kB)\n",
            "\u001b[2K   \u001b[90m━━━━━━━━━━━━━━━━━━━━━━━━━━━━━━━━━━━━━━━━\u001b[0m \u001b[32m121.9/121.9 kB\u001b[0m \u001b[31m9.6 MB/s\u001b[0m eta \u001b[36m0:00:00\u001b[0m\n",
            "\u001b[?25hInstalling collected packages: groq, langchain-groq\n",
            "Successfully installed groq-0.18.0 langchain-groq-0.2.4\n"
          ]
        }
      ]
    },
    {
      "cell_type": "code",
      "source": [
        "!pip install langchain_google_genai"
      ],
      "metadata": {
        "colab": {
          "base_uri": "https://localhost:8080/",
          "height": 1000
        },
        "id": "qHT0YirsKbGV",
        "outputId": "9a9b902b-a952-4a07-9af9-73669a4f84fd"
      },
      "execution_count": 5,
      "outputs": [
        {
          "output_type": "stream",
          "name": "stdout",
          "text": [
            "Collecting langchain_google_genai\n",
            "  Downloading langchain_google_genai-2.0.11-py3-none-any.whl.metadata (3.6 kB)\n",
            "Collecting filetype<2.0.0,>=1.2.0 (from langchain_google_genai)\n",
            "  Downloading filetype-1.2.0-py2.py3-none-any.whl.metadata (6.5 kB)\n",
            "Collecting google-ai-generativelanguage<0.7.0,>=0.6.16 (from langchain_google_genai)\n",
            "  Downloading google_ai_generativelanguage-0.6.16-py3-none-any.whl.metadata (5.7 kB)\n",
            "Requirement already satisfied: langchain-core<0.4.0,>=0.3.37 in /usr/local/lib/python3.11/dist-packages (from langchain_google_genai) (0.3.40)\n",
            "Requirement already satisfied: pydantic<3,>=2 in /usr/local/lib/python3.11/dist-packages (from langchain_google_genai) (2.10.6)\n",
            "Requirement already satisfied: google-api-core!=2.0.*,!=2.1.*,!=2.10.*,!=2.2.*,!=2.3.*,!=2.4.*,!=2.5.*,!=2.6.*,!=2.7.*,!=2.8.*,!=2.9.*,<3.0.0dev,>=1.34.1 in /usr/local/lib/python3.11/dist-packages (from google-api-core[grpc]!=2.0.*,!=2.1.*,!=2.10.*,!=2.2.*,!=2.3.*,!=2.4.*,!=2.5.*,!=2.6.*,!=2.7.*,!=2.8.*,!=2.9.*,<3.0.0dev,>=1.34.1->google-ai-generativelanguage<0.7.0,>=0.6.16->langchain_google_genai) (2.24.1)\n",
            "Requirement already satisfied: google-auth!=2.24.0,!=2.25.0,<3.0.0dev,>=2.14.1 in /usr/local/lib/python3.11/dist-packages (from google-ai-generativelanguage<0.7.0,>=0.6.16->langchain_google_genai) (2.38.0)\n",
            "Requirement already satisfied: proto-plus<2.0.0dev,>=1.22.3 in /usr/local/lib/python3.11/dist-packages (from google-ai-generativelanguage<0.7.0,>=0.6.16->langchain_google_genai) (1.26.0)\n",
            "Requirement already satisfied: protobuf!=4.21.0,!=4.21.1,!=4.21.2,!=4.21.3,!=4.21.4,!=4.21.5,<6.0.0dev,>=3.20.2 in /usr/local/lib/python3.11/dist-packages (from google-ai-generativelanguage<0.7.0,>=0.6.16->langchain_google_genai) (4.25.6)\n",
            "Requirement already satisfied: langsmith<0.4,>=0.1.125 in /usr/local/lib/python3.11/dist-packages (from langchain-core<0.4.0,>=0.3.37->langchain_google_genai) (0.3.11)\n",
            "Requirement already satisfied: tenacity!=8.4.0,<10.0.0,>=8.1.0 in /usr/local/lib/python3.11/dist-packages (from langchain-core<0.4.0,>=0.3.37->langchain_google_genai) (9.0.0)\n",
            "Requirement already satisfied: jsonpatch<2.0,>=1.33 in /usr/local/lib/python3.11/dist-packages (from langchain-core<0.4.0,>=0.3.37->langchain_google_genai) (1.33)\n",
            "Requirement already satisfied: PyYAML>=5.3 in /usr/local/lib/python3.11/dist-packages (from langchain-core<0.4.0,>=0.3.37->langchain_google_genai) (6.0.2)\n",
            "Requirement already satisfied: packaging<25,>=23.2 in /usr/local/lib/python3.11/dist-packages (from langchain-core<0.4.0,>=0.3.37->langchain_google_genai) (24.2)\n",
            "Requirement already satisfied: typing-extensions>=4.7 in /usr/local/lib/python3.11/dist-packages (from langchain-core<0.4.0,>=0.3.37->langchain_google_genai) (4.12.2)\n",
            "Requirement already satisfied: annotated-types>=0.6.0 in /usr/local/lib/python3.11/dist-packages (from pydantic<3,>=2->langchain_google_genai) (0.7.0)\n",
            "Requirement already satisfied: pydantic-core==2.27.2 in /usr/local/lib/python3.11/dist-packages (from pydantic<3,>=2->langchain_google_genai) (2.27.2)\n",
            "Requirement already satisfied: googleapis-common-protos<2.0.dev0,>=1.56.2 in /usr/local/lib/python3.11/dist-packages (from google-api-core!=2.0.*,!=2.1.*,!=2.10.*,!=2.2.*,!=2.3.*,!=2.4.*,!=2.5.*,!=2.6.*,!=2.7.*,!=2.8.*,!=2.9.*,<3.0.0dev,>=1.34.1->google-api-core[grpc]!=2.0.*,!=2.1.*,!=2.10.*,!=2.2.*,!=2.3.*,!=2.4.*,!=2.5.*,!=2.6.*,!=2.7.*,!=2.8.*,!=2.9.*,<3.0.0dev,>=1.34.1->google-ai-generativelanguage<0.7.0,>=0.6.16->langchain_google_genai) (1.68.0)\n",
            "Requirement already satisfied: requests<3.0.0.dev0,>=2.18.0 in /usr/local/lib/python3.11/dist-packages (from google-api-core!=2.0.*,!=2.1.*,!=2.10.*,!=2.2.*,!=2.3.*,!=2.4.*,!=2.5.*,!=2.6.*,!=2.7.*,!=2.8.*,!=2.9.*,<3.0.0dev,>=1.34.1->google-api-core[grpc]!=2.0.*,!=2.1.*,!=2.10.*,!=2.2.*,!=2.3.*,!=2.4.*,!=2.5.*,!=2.6.*,!=2.7.*,!=2.8.*,!=2.9.*,<3.0.0dev,>=1.34.1->google-ai-generativelanguage<0.7.0,>=0.6.16->langchain_google_genai) (2.32.3)\n",
            "Requirement already satisfied: grpcio<2.0dev,>=1.33.2 in /usr/local/lib/python3.11/dist-packages (from google-api-core[grpc]!=2.0.*,!=2.1.*,!=2.10.*,!=2.2.*,!=2.3.*,!=2.4.*,!=2.5.*,!=2.6.*,!=2.7.*,!=2.8.*,!=2.9.*,<3.0.0dev,>=1.34.1->google-ai-generativelanguage<0.7.0,>=0.6.16->langchain_google_genai) (1.70.0)\n",
            "Requirement already satisfied: grpcio-status<2.0.dev0,>=1.33.2 in /usr/local/lib/python3.11/dist-packages (from google-api-core[grpc]!=2.0.*,!=2.1.*,!=2.10.*,!=2.2.*,!=2.3.*,!=2.4.*,!=2.5.*,!=2.6.*,!=2.7.*,!=2.8.*,!=2.9.*,<3.0.0dev,>=1.34.1->google-ai-generativelanguage<0.7.0,>=0.6.16->langchain_google_genai) (1.62.3)\n",
            "Requirement already satisfied: cachetools<6.0,>=2.0.0 in /usr/local/lib/python3.11/dist-packages (from google-auth!=2.24.0,!=2.25.0,<3.0.0dev,>=2.14.1->google-ai-generativelanguage<0.7.0,>=0.6.16->langchain_google_genai) (5.5.2)\n",
            "Requirement already satisfied: pyasn1-modules>=0.2.1 in /usr/local/lib/python3.11/dist-packages (from google-auth!=2.24.0,!=2.25.0,<3.0.0dev,>=2.14.1->google-ai-generativelanguage<0.7.0,>=0.6.16->langchain_google_genai) (0.4.1)\n",
            "Requirement already satisfied: rsa<5,>=3.1.4 in /usr/local/lib/python3.11/dist-packages (from google-auth!=2.24.0,!=2.25.0,<3.0.0dev,>=2.14.1->google-ai-generativelanguage<0.7.0,>=0.6.16->langchain_google_genai) (4.9)\n",
            "Requirement already satisfied: jsonpointer>=1.9 in /usr/local/lib/python3.11/dist-packages (from jsonpatch<2.0,>=1.33->langchain-core<0.4.0,>=0.3.37->langchain_google_genai) (3.0.0)\n",
            "Requirement already satisfied: httpx<1,>=0.23.0 in /usr/local/lib/python3.11/dist-packages (from langsmith<0.4,>=0.1.125->langchain-core<0.4.0,>=0.3.37->langchain_google_genai) (0.28.1)\n",
            "Requirement already satisfied: orjson<4.0.0,>=3.9.14 in /usr/local/lib/python3.11/dist-packages (from langsmith<0.4,>=0.1.125->langchain-core<0.4.0,>=0.3.37->langchain_google_genai) (3.10.15)\n",
            "Requirement already satisfied: requests-toolbelt<2.0.0,>=1.0.0 in /usr/local/lib/python3.11/dist-packages (from langsmith<0.4,>=0.1.125->langchain-core<0.4.0,>=0.3.37->langchain_google_genai) (1.0.0)\n",
            "Requirement already satisfied: zstandard<0.24.0,>=0.23.0 in /usr/local/lib/python3.11/dist-packages (from langsmith<0.4,>=0.1.125->langchain-core<0.4.0,>=0.3.37->langchain_google_genai) (0.23.0)\n",
            "Requirement already satisfied: anyio in /usr/local/lib/python3.11/dist-packages (from httpx<1,>=0.23.0->langsmith<0.4,>=0.1.125->langchain-core<0.4.0,>=0.3.37->langchain_google_genai) (3.7.1)\n",
            "Requirement already satisfied: certifi in /usr/local/lib/python3.11/dist-packages (from httpx<1,>=0.23.0->langsmith<0.4,>=0.1.125->langchain-core<0.4.0,>=0.3.37->langchain_google_genai) (2025.1.31)\n",
            "Requirement already satisfied: httpcore==1.* in /usr/local/lib/python3.11/dist-packages (from httpx<1,>=0.23.0->langsmith<0.4,>=0.1.125->langchain-core<0.4.0,>=0.3.37->langchain_google_genai) (1.0.7)\n",
            "Requirement already satisfied: idna in /usr/local/lib/python3.11/dist-packages (from httpx<1,>=0.23.0->langsmith<0.4,>=0.1.125->langchain-core<0.4.0,>=0.3.37->langchain_google_genai) (3.10)\n",
            "Requirement already satisfied: h11<0.15,>=0.13 in /usr/local/lib/python3.11/dist-packages (from httpcore==1.*->httpx<1,>=0.23.0->langsmith<0.4,>=0.1.125->langchain-core<0.4.0,>=0.3.37->langchain_google_genai) (0.14.0)\n",
            "Requirement already satisfied: pyasn1<0.7.0,>=0.4.6 in /usr/local/lib/python3.11/dist-packages (from pyasn1-modules>=0.2.1->google-auth!=2.24.0,!=2.25.0,<3.0.0dev,>=2.14.1->google-ai-generativelanguage<0.7.0,>=0.6.16->langchain_google_genai) (0.6.1)\n",
            "Requirement already satisfied: charset-normalizer<4,>=2 in /usr/local/lib/python3.11/dist-packages (from requests<3.0.0.dev0,>=2.18.0->google-api-core!=2.0.*,!=2.1.*,!=2.10.*,!=2.2.*,!=2.3.*,!=2.4.*,!=2.5.*,!=2.6.*,!=2.7.*,!=2.8.*,!=2.9.*,<3.0.0dev,>=1.34.1->google-api-core[grpc]!=2.0.*,!=2.1.*,!=2.10.*,!=2.2.*,!=2.3.*,!=2.4.*,!=2.5.*,!=2.6.*,!=2.7.*,!=2.8.*,!=2.9.*,<3.0.0dev,>=1.34.1->google-ai-generativelanguage<0.7.0,>=0.6.16->langchain_google_genai) (3.4.1)\n",
            "Requirement already satisfied: urllib3<3,>=1.21.1 in /usr/local/lib/python3.11/dist-packages (from requests<3.0.0.dev0,>=2.18.0->google-api-core!=2.0.*,!=2.1.*,!=2.10.*,!=2.2.*,!=2.3.*,!=2.4.*,!=2.5.*,!=2.6.*,!=2.7.*,!=2.8.*,!=2.9.*,<3.0.0dev,>=1.34.1->google-api-core[grpc]!=2.0.*,!=2.1.*,!=2.10.*,!=2.2.*,!=2.3.*,!=2.4.*,!=2.5.*,!=2.6.*,!=2.7.*,!=2.8.*,!=2.9.*,<3.0.0dev,>=1.34.1->google-ai-generativelanguage<0.7.0,>=0.6.16->langchain_google_genai) (2.3.0)\n",
            "Requirement already satisfied: sniffio>=1.1 in /usr/local/lib/python3.11/dist-packages (from anyio->httpx<1,>=0.23.0->langsmith<0.4,>=0.1.125->langchain-core<0.4.0,>=0.3.37->langchain_google_genai) (1.3.1)\n",
            "Downloading langchain_google_genai-2.0.11-py3-none-any.whl (39 kB)\n",
            "Downloading filetype-1.2.0-py2.py3-none-any.whl (19 kB)\n",
            "Downloading google_ai_generativelanguage-0.6.16-py3-none-any.whl (1.4 MB)\n",
            "\u001b[2K   \u001b[90m━━━━━━━━━━━━━━━━━━━━━━━━━━━━━━━━━━━━━━━━\u001b[0m \u001b[32m1.4/1.4 MB\u001b[0m \u001b[31m31.6 MB/s\u001b[0m eta \u001b[36m0:00:00\u001b[0m\n",
            "\u001b[?25hInstalling collected packages: filetype, google-ai-generativelanguage, langchain_google_genai\n",
            "  Attempting uninstall: google-ai-generativelanguage\n",
            "    Found existing installation: google-ai-generativelanguage 0.6.15\n",
            "    Uninstalling google-ai-generativelanguage-0.6.15:\n",
            "      Successfully uninstalled google-ai-generativelanguage-0.6.15\n",
            "\u001b[31mERROR: pip's dependency resolver does not currently take into account all the packages that are installed. This behaviour is the source of the following dependency conflicts.\n",
            "google-generativeai 0.8.4 requires google-ai-generativelanguage==0.6.15, but you have google-ai-generativelanguage 0.6.16 which is incompatible.\u001b[0m\u001b[31m\n",
            "\u001b[0mSuccessfully installed filetype-1.2.0 google-ai-generativelanguage-0.6.16 langchain_google_genai-2.0.11\n"
          ]
        },
        {
          "output_type": "display_data",
          "data": {
            "application/vnd.colab-display-data+json": {
              "pip_warning": {
                "packages": [
                  "google"
                ]
              },
              "id": "0e36f82fedf8409ab54954cfc577fce5"
            }
          },
          "metadata": {}
        }
      ]
    },
    {
      "cell_type": "code",
      "source": [
        "!pip install langgraph"
      ],
      "metadata": {
        "colab": {
          "base_uri": "https://localhost:8080/"
        },
        "id": "dZUDx97vlEFh",
        "outputId": "302dd8bb-5e3b-42df-a181-7760c1e994f3"
      },
      "execution_count": 6,
      "outputs": [
        {
          "output_type": "stream",
          "name": "stdout",
          "text": [
            "Collecting langgraph\n",
            "  Downloading langgraph-0.3.5-py3-none-any.whl.metadata (17 kB)\n",
            "Requirement already satisfied: langchain-core<0.4,>=0.1 in /usr/local/lib/python3.11/dist-packages (from langgraph) (0.3.40)\n",
            "Collecting langgraph-checkpoint<3.0.0,>=2.0.10 (from langgraph)\n",
            "  Downloading langgraph_checkpoint-2.0.16-py3-none-any.whl.metadata (4.6 kB)\n",
            "Collecting langgraph-prebuilt<0.2,>=0.1.1 (from langgraph)\n",
            "  Downloading langgraph_prebuilt-0.1.1-py3-none-any.whl.metadata (5.0 kB)\n",
            "Collecting langgraph-sdk<0.2.0,>=0.1.42 (from langgraph)\n",
            "  Downloading langgraph_sdk-0.1.53-py3-none-any.whl.metadata (1.8 kB)\n",
            "Requirement already satisfied: langsmith<0.4,>=0.1.125 in /usr/local/lib/python3.11/dist-packages (from langchain-core<0.4,>=0.1->langgraph) (0.3.11)\n",
            "Requirement already satisfied: tenacity!=8.4.0,<10.0.0,>=8.1.0 in /usr/local/lib/python3.11/dist-packages (from langchain-core<0.4,>=0.1->langgraph) (9.0.0)\n",
            "Requirement already satisfied: jsonpatch<2.0,>=1.33 in /usr/local/lib/python3.11/dist-packages (from langchain-core<0.4,>=0.1->langgraph) (1.33)\n",
            "Requirement already satisfied: PyYAML>=5.3 in /usr/local/lib/python3.11/dist-packages (from langchain-core<0.4,>=0.1->langgraph) (6.0.2)\n",
            "Requirement already satisfied: packaging<25,>=23.2 in /usr/local/lib/python3.11/dist-packages (from langchain-core<0.4,>=0.1->langgraph) (24.2)\n",
            "Requirement already satisfied: typing-extensions>=4.7 in /usr/local/lib/python3.11/dist-packages (from langchain-core<0.4,>=0.1->langgraph) (4.12.2)\n",
            "Requirement already satisfied: pydantic<3.0.0,>=2.5.2 in /usr/local/lib/python3.11/dist-packages (from langchain-core<0.4,>=0.1->langgraph) (2.10.6)\n",
            "Requirement already satisfied: msgpack<2.0.0,>=1.1.0 in /usr/local/lib/python3.11/dist-packages (from langgraph-checkpoint<3.0.0,>=2.0.10->langgraph) (1.1.0)\n",
            "Requirement already satisfied: httpx>=0.25.2 in /usr/local/lib/python3.11/dist-packages (from langgraph-sdk<0.2.0,>=0.1.42->langgraph) (0.28.1)\n",
            "Requirement already satisfied: orjson>=3.10.1 in /usr/local/lib/python3.11/dist-packages (from langgraph-sdk<0.2.0,>=0.1.42->langgraph) (3.10.15)\n",
            "Requirement already satisfied: anyio in /usr/local/lib/python3.11/dist-packages (from httpx>=0.25.2->langgraph-sdk<0.2.0,>=0.1.42->langgraph) (3.7.1)\n",
            "Requirement already satisfied: certifi in /usr/local/lib/python3.11/dist-packages (from httpx>=0.25.2->langgraph-sdk<0.2.0,>=0.1.42->langgraph) (2025.1.31)\n",
            "Requirement already satisfied: httpcore==1.* in /usr/local/lib/python3.11/dist-packages (from httpx>=0.25.2->langgraph-sdk<0.2.0,>=0.1.42->langgraph) (1.0.7)\n",
            "Requirement already satisfied: idna in /usr/local/lib/python3.11/dist-packages (from httpx>=0.25.2->langgraph-sdk<0.2.0,>=0.1.42->langgraph) (3.10)\n",
            "Requirement already satisfied: h11<0.15,>=0.13 in /usr/local/lib/python3.11/dist-packages (from httpcore==1.*->httpx>=0.25.2->langgraph-sdk<0.2.0,>=0.1.42->langgraph) (0.14.0)\n",
            "Requirement already satisfied: jsonpointer>=1.9 in /usr/local/lib/python3.11/dist-packages (from jsonpatch<2.0,>=1.33->langchain-core<0.4,>=0.1->langgraph) (3.0.0)\n",
            "Requirement already satisfied: requests<3,>=2 in /usr/local/lib/python3.11/dist-packages (from langsmith<0.4,>=0.1.125->langchain-core<0.4,>=0.1->langgraph) (2.32.3)\n",
            "Requirement already satisfied: requests-toolbelt<2.0.0,>=1.0.0 in /usr/local/lib/python3.11/dist-packages (from langsmith<0.4,>=0.1.125->langchain-core<0.4,>=0.1->langgraph) (1.0.0)\n",
            "Requirement already satisfied: zstandard<0.24.0,>=0.23.0 in /usr/local/lib/python3.11/dist-packages (from langsmith<0.4,>=0.1.125->langchain-core<0.4,>=0.1->langgraph) (0.23.0)\n",
            "Requirement already satisfied: annotated-types>=0.6.0 in /usr/local/lib/python3.11/dist-packages (from pydantic<3.0.0,>=2.5.2->langchain-core<0.4,>=0.1->langgraph) (0.7.0)\n",
            "Requirement already satisfied: pydantic-core==2.27.2 in /usr/local/lib/python3.11/dist-packages (from pydantic<3.0.0,>=2.5.2->langchain-core<0.4,>=0.1->langgraph) (2.27.2)\n",
            "Requirement already satisfied: charset-normalizer<4,>=2 in /usr/local/lib/python3.11/dist-packages (from requests<3,>=2->langsmith<0.4,>=0.1.125->langchain-core<0.4,>=0.1->langgraph) (3.4.1)\n",
            "Requirement already satisfied: urllib3<3,>=1.21.1 in /usr/local/lib/python3.11/dist-packages (from requests<3,>=2->langsmith<0.4,>=0.1.125->langchain-core<0.4,>=0.1->langgraph) (2.3.0)\n",
            "Requirement already satisfied: sniffio>=1.1 in /usr/local/lib/python3.11/dist-packages (from anyio->httpx>=0.25.2->langgraph-sdk<0.2.0,>=0.1.42->langgraph) (1.3.1)\n",
            "Downloading langgraph-0.3.5-py3-none-any.whl (131 kB)\n",
            "\u001b[2K   \u001b[90m━━━━━━━━━━━━━━━━━━━━━━━━━━━━━━━━━━━━━━━━\u001b[0m \u001b[32m131.5/131.5 kB\u001b[0m \u001b[31m4.9 MB/s\u001b[0m eta \u001b[36m0:00:00\u001b[0m\n",
            "\u001b[?25hDownloading langgraph_checkpoint-2.0.16-py3-none-any.whl (38 kB)\n",
            "Downloading langgraph_prebuilt-0.1.1-py3-none-any.whl (24 kB)\n",
            "Downloading langgraph_sdk-0.1.53-py3-none-any.whl (45 kB)\n",
            "\u001b[2K   \u001b[90m━━━━━━━━━━━━━━━━━━━━━━━━━━━━━━━━━━━━━━━━\u001b[0m \u001b[32m45.4/45.4 kB\u001b[0m \u001b[31m4.2 MB/s\u001b[0m eta \u001b[36m0:00:00\u001b[0m\n",
            "\u001b[?25hInstalling collected packages: langgraph-sdk, langgraph-checkpoint, langgraph-prebuilt, langgraph\n",
            "Successfully installed langgraph-0.3.5 langgraph-checkpoint-2.0.16 langgraph-prebuilt-0.1.1 langgraph-sdk-0.1.53\n"
          ]
        }
      ]
    },
    {
      "cell_type": "code",
      "source": [
        "import os"
      ],
      "metadata": {
        "id": "shU63cwFmfxK"
      },
      "execution_count": 7,
      "outputs": []
    },
    {
      "cell_type": "code",
      "source": [
        "os.environ[\"LANGCHAIN_TRACING_V2\"] = \"false\""
      ],
      "metadata": {
        "id": "W5lC9NYqmaxX"
      },
      "execution_count": 8,
      "outputs": []
    },
    {
      "cell_type": "markdown",
      "source": [
        "# Import the Libraries"
      ],
      "metadata": {
        "id": "LdlhkM2TXof_"
      }
    },
    {
      "cell_type": "code",
      "source": [
        "from langchain import hub\n",
        "from langchain_groq import ChatGroq\n",
        "from google.colab import userdata\n",
        "\n",
        "os.environ[\"GROQ_API_KEY\"] = userdata.get(\"GROQ_API_KEY\")\n",
        "llm = ChatGroq(model=\"llama-3.3-70b-versatile\", temperature=0)\n",
        "prompt = hub.pull(\"hwchase17/react\")"
      ],
      "metadata": {
        "colab": {
          "base_uri": "https://localhost:8080/"
        },
        "id": "D07tKDlGksCu",
        "outputId": "218b0f0e-d031-457e-ac57-cc0b5a6bbf43"
      },
      "execution_count": 9,
      "outputs": [
        {
          "output_type": "stream",
          "name": "stderr",
          "text": [
            "/usr/local/lib/python3.11/dist-packages/langsmith/client.py:253: LangSmithMissingAPIKeyWarning: API key must be provided when using hosted LangSmith API\n",
            "  warnings.warn(\n"
          ]
        }
      ]
    },
    {
      "cell_type": "markdown",
      "source": [
        "# Getting Google Calendar tool"
      ],
      "metadata": {
        "id": "Q5IvECOuXtnC"
      }
    },
    {
      "cell_type": "code",
      "source": [
        "from composio_langchain import ComposioToolSet, Action, App\n",
        "\n",
        "os.environ[\"COMPOSIO_API_KEY\"] = userdata.get(\"COMPOSIO_KEY\")\n",
        "os.environ[\"COMPOSIO_LOGGING_LEVEL\"] = \"debug\"\n",
        "\n",
        "composio_tool_set = ComposioToolSet()\n",
        "\n",
        "tools = composio_tool_set.get_tools(\n",
        "    apps = [App.GOOGLECALENDAR]\n",
        ")"
      ],
      "metadata": {
        "id": "BiX_I4c6mlIV",
        "colab": {
          "base_uri": "https://localhost:8080/"
        },
        "outputId": "a362737e-ef03-4be8-c0fb-ee8f07791afe"
      },
      "execution_count": 12,
      "outputs": [
        {
          "output_type": "stream",
          "name": "stderr",
          "text": [
            "INFO:composio.utils.shared:Actions cache is outdated, refreshing cache...\n",
            "/usr/local/lib/python3.11/dist-packages/composio/client/collections.py:1155: UserWarning: Using all actions of an app is not recommended for production.Learn more: https://docs.composio.dev/patterns/tools/use-tools/use-specific-actions\n",
            "\n",
            "Give Feedback / Get Help:\n",
            "    On GitHub: https://github.com/ComposioHQ/composio/issues/new\n",
            "    On Discord: https://dub.composio.dev/discord\n",
            "    On Email: tech@composio.dev\n",
            "    Talk to us on Intercom: https://composio.dev\n",
            "    Book a call with us: https://composio.dev/redirect?url=https://calendly.com/composiohq/support?utm_source=py-sdk-logs&utm_campaign=calendly\n",
            "If you need to debug this error, set `COMPOSIO_LOGGING_LEVEL=debug`.\n",
            "  warnings.warn(\n"
          ]
        }
      ]
    },
    {
      "cell_type": "code",
      "source": [
        "print(tools)"
      ],
      "metadata": {
        "colab": {
          "base_uri": "https://localhost:8080/"
        },
        "id": "z_DHAK4UWAjq",
        "outputId": "b377fc9d-7ba5-4962-8ead-fc6f7a2ec78d"
      },
      "execution_count": null,
      "outputs": [
        {
          "output_type": "stream",
          "name": "stdout",
          "text": [
            "[StructuredTool(name='GOOGLECALENDAR_CREATE_EVENT', description='Create A New Event In A Google Calendar.', args_schema=<class 'composio.utils.shared.CreateEventRequest'>, func=<function ComposioToolSet._wrap_action.<locals>.function at 0x7dc5946a1120>), StructuredTool(name='GOOGLECALENDAR_GET_CALENDAR', description='Action To Fetch A Calendar Based On The Provided Calendar Id.', args_schema=<class 'composio.utils.shared.GetCalendarRequest'>, func=<function ComposioToolSet._wrap_action.<locals>.function at 0x7dc5946a0e00>), StructuredTool(name='GOOGLECALENDAR_DUPLICATE_CALENDAR', description='Action To Duplicate A Google Calendar Based On The Provided Summary. The Duplicated Calendar Can Be Used Similarly To Manage Other Goals.', args_schema=<class 'composio.utils.shared.DuplicateCalendarRequest'>, func=<function ComposioToolSet._wrap_action.<locals>.function at 0x7dc5946a0c20>), StructuredTool(name='GOOGLECALENDAR_DELETE_EVENT', description='Delete An Event From A Google Calendar.', args_schema=<class 'composio.utils.shared.DeleteEventRequest'>, func=<function ComposioToolSet._wrap_action.<locals>.function at 0x7dc5946a3560>), StructuredTool(name='GOOGLECALENDAR_FIND_FREE_SLOTS', description='Find Free Slots In A Google Calendar Based On For A Specific Time Period.', args_schema=<class 'composio.utils.shared.FindFreeSlotsRequest'>, func=<function ComposioToolSet._wrap_action.<locals>.function at 0x7dc5946a2980>), StructuredTool(name='GOOGLECALENDAR_REMOVE_ATTENDEE', description='Remove An Attendee From An Existing Event In A Google Calendar.', args_schema=<class 'composio.utils.shared.RemoveAttendeeRequest'>, func=<function ComposioToolSet._wrap_action.<locals>.function at 0x7dc5946a2020>), StructuredTool(name='GOOGLECALENDAR_GET_CURRENT_DATE_TIME', description='Action To Get The Current Date And Time Of A Specified Timezone, Given Its Utc Offset Value.', args_schema=<class 'composio.utils.shared.GetCurrentDateTimeRequest'>, func=<function ComposioToolSet._wrap_action.<locals>.function at 0x7dc5946a39c0>), StructuredTool(name='GOOGLECALENDAR_LIST_CALENDARS', description=\"Action To List All Google Calendars From The User's Calendar List With Pagination.\", args_schema=<class 'composio.utils.shared.ListCalendarsRequest'>, func=<function ComposioToolSet._wrap_action.<locals>.function at 0x7dc5946a16c0>), StructuredTool(name='GOOGLECALENDAR_UPDATE_EVENT', description='Update An Existing Event In A Google Calendar.', args_schema=<class 'composio.utils.shared.UpdateEventRequest'>, func=<function ComposioToolSet._wrap_action.<locals>.function at 0x7dc5946a0400>), StructuredTool(name='GOOGLECALENDAR_QUICK_ADD', description=\"Create A New Event In A Google Calendar Based On A Simple Text String Like 'Appointment At Somewhere On June 3Rd 10Am 10:25Am' You Can Only Give Title And Timeslot Here. No Recurring Meetings And No Attendee Can Be Added Here. This Is Not A Preferred Endpoint. Only Use This If No Other Endpoint Is Possible.\", args_schema=<class 'composio.utils.shared.QuickAddRequest'>, func=<function ComposioToolSet._wrap_action.<locals>.function at 0x7dc5946a1300>), StructuredTool(name='GOOGLECALENDAR_PATCH_CALENDAR', description=\"Action To Update A Google Calendar Based On The Provided Calendar Id And Other Required And Optional Parameters. Note That 'Summary' Is A Mandatory Parameter.\", args_schema=<class 'composio.utils.shared.PatchCalendarRequest'>, func=<function ComposioToolSet._wrap_action.<locals>.function at 0x7dc5946a2fc0>), StructuredTool(name='GOOGLECALENDAR_FIND_EVENT', description='Find Events In A Google Calendar Based On A Search Query.', args_schema=<class 'composio.utils.shared.FindEventRequest'>, func=<function ComposioToolSet._wrap_action.<locals>.function at 0x7dc5946a22a0>)]\n"
          ]
        }
      ]
    },
    {
      "cell_type": "code",
      "source": [
        "from pprint import pprint\n",
        "\n",
        "pprint(tools)"
      ],
      "metadata": {
        "colab": {
          "base_uri": "https://localhost:8080/"
        },
        "id": "COkR_9VtW4eh",
        "outputId": "4e01bcda-9f75-4981-a2b1-d73c1b0b4b2e"
      },
      "execution_count": null,
      "outputs": [
        {
          "output_type": "stream",
          "name": "stdout",
          "text": [
            "[StructuredTool(name='GOOGLECALENDAR_CREATE_EVENT', description='Create A New Event In A Google Calendar.', args_schema=<class 'composio.utils.shared.CreateEventRequest'>, func=<function ComposioToolSet._wrap_action.<locals>.function at 0x7dc5946a1120>),\n",
            " StructuredTool(name='GOOGLECALENDAR_GET_CALENDAR', description='Action To Fetch A Calendar Based On The Provided Calendar Id.', args_schema=<class 'composio.utils.shared.GetCalendarRequest'>, func=<function ComposioToolSet._wrap_action.<locals>.function at 0x7dc5946a0e00>),\n",
            " StructuredTool(name='GOOGLECALENDAR_DUPLICATE_CALENDAR', description='Action To Duplicate A Google Calendar Based On The Provided Summary. The Duplicated Calendar Can Be Used Similarly To Manage Other Goals.', args_schema=<class 'composio.utils.shared.DuplicateCalendarRequest'>, func=<function ComposioToolSet._wrap_action.<locals>.function at 0x7dc5946a0c20>),\n",
            " StructuredTool(name='GOOGLECALENDAR_DELETE_EVENT', description='Delete An Event From A Google Calendar.', args_schema=<class 'composio.utils.shared.DeleteEventRequest'>, func=<function ComposioToolSet._wrap_action.<locals>.function at 0x7dc5946a3560>),\n",
            " StructuredTool(name='GOOGLECALENDAR_FIND_FREE_SLOTS', description='Find Free Slots In A Google Calendar Based On For A Specific Time Period.', args_schema=<class 'composio.utils.shared.FindFreeSlotsRequest'>, func=<function ComposioToolSet._wrap_action.<locals>.function at 0x7dc5946a2980>),\n",
            " StructuredTool(name='GOOGLECALENDAR_REMOVE_ATTENDEE', description='Remove An Attendee From An Existing Event In A Google Calendar.', args_schema=<class 'composio.utils.shared.RemoveAttendeeRequest'>, func=<function ComposioToolSet._wrap_action.<locals>.function at 0x7dc5946a2020>),\n",
            " StructuredTool(name='GOOGLECALENDAR_GET_CURRENT_DATE_TIME', description='Action To Get The Current Date And Time Of A Specified Timezone, Given Its Utc Offset Value.', args_schema=<class 'composio.utils.shared.GetCurrentDateTimeRequest'>, func=<function ComposioToolSet._wrap_action.<locals>.function at 0x7dc5946a39c0>),\n",
            " StructuredTool(name='GOOGLECALENDAR_LIST_CALENDARS', description=\"Action To List All Google Calendars From The User's Calendar List With Pagination.\", args_schema=<class 'composio.utils.shared.ListCalendarsRequest'>, func=<function ComposioToolSet._wrap_action.<locals>.function at 0x7dc5946a16c0>),\n",
            " StructuredTool(name='GOOGLECALENDAR_UPDATE_EVENT', description='Update An Existing Event In A Google Calendar.', args_schema=<class 'composio.utils.shared.UpdateEventRequest'>, func=<function ComposioToolSet._wrap_action.<locals>.function at 0x7dc5946a0400>),\n",
            " StructuredTool(name='GOOGLECALENDAR_QUICK_ADD', description=\"Create A New Event In A Google Calendar Based On A Simple Text String Like 'Appointment At Somewhere On June 3Rd 10Am 10:25Am' You Can Only Give Title And Timeslot Here. No Recurring Meetings And No Attendee Can Be Added Here. This Is Not A Preferred Endpoint. Only Use This If No Other Endpoint Is Possible.\", args_schema=<class 'composio.utils.shared.QuickAddRequest'>, func=<function ComposioToolSet._wrap_action.<locals>.function at 0x7dc5946a1300>),\n",
            " StructuredTool(name='GOOGLECALENDAR_PATCH_CALENDAR', description=\"Action To Update A Google Calendar Based On The Provided Calendar Id And Other Required And Optional Parameters. Note That 'Summary' Is A Mandatory Parameter.\", args_schema=<class 'composio.utils.shared.PatchCalendarRequest'>, func=<function ComposioToolSet._wrap_action.<locals>.function at 0x7dc5946a2fc0>),\n",
            " StructuredTool(name='GOOGLECALENDAR_FIND_EVENT', description='Find Events In A Google Calendar Based On A Search Query.', args_schema=<class 'composio.utils.shared.FindEventRequest'>, func=<function ComposioToolSet._wrap_action.<locals>.function at 0x7dc5946a22a0>)]\n"
          ]
        }
      ]
    },
    {
      "cell_type": "code",
      "source": [
        "for tool in tools:\n",
        "    print(tool.name, \" ---> \", tool.description)"
      ],
      "metadata": {
        "colab": {
          "base_uri": "https://localhost:8080/"
        },
        "id": "ALsTffwzXM7H",
        "outputId": "d094fade-0c7e-4da1-bccb-945716d4d5f4"
      },
      "execution_count": null,
      "outputs": [
        {
          "output_type": "stream",
          "name": "stdout",
          "text": [
            "GOOGLECALENDAR_CREATE_EVENT  --->  Create A New Event In A Google Calendar.\n",
            "GOOGLECALENDAR_GET_CALENDAR  --->  Action To Fetch A Calendar Based On The Provided Calendar Id.\n",
            "GOOGLECALENDAR_DUPLICATE_CALENDAR  --->  Action To Duplicate A Google Calendar Based On The Provided Summary. The Duplicated Calendar Can Be Used Similarly To Manage Other Goals.\n",
            "GOOGLECALENDAR_DELETE_EVENT  --->  Delete An Event From A Google Calendar.\n",
            "GOOGLECALENDAR_FIND_FREE_SLOTS  --->  Find Free Slots In A Google Calendar Based On For A Specific Time Period.\n",
            "GOOGLECALENDAR_REMOVE_ATTENDEE  --->  Remove An Attendee From An Existing Event In A Google Calendar.\n",
            "GOOGLECALENDAR_GET_CURRENT_DATE_TIME  --->  Action To Get The Current Date And Time Of A Specified Timezone, Given Its Utc Offset Value.\n",
            "GOOGLECALENDAR_LIST_CALENDARS  --->  Action To List All Google Calendars From The User's Calendar List With Pagination.\n",
            "GOOGLECALENDAR_UPDATE_EVENT  --->  Update An Existing Event In A Google Calendar.\n",
            "GOOGLECALENDAR_QUICK_ADD  --->  Create A New Event In A Google Calendar Based On A Simple Text String Like 'Appointment At Somewhere On June 3Rd 10Am 10:25Am' You Can Only Give Title And Timeslot Here. No Recurring Meetings And No Attendee Can Be Added Here. This Is Not A Preferred Endpoint. Only Use This If No Other Endpoint Is Possible.\n",
            "GOOGLECALENDAR_PATCH_CALENDAR  --->  Action To Update A Google Calendar Based On The Provided Calendar Id And Other Required And Optional Parameters. Note That 'Summary' Is A Mandatory Parameter.\n",
            "GOOGLECALENDAR_FIND_EVENT  --->  Find Events In A Google Calendar Based On A Search Query.\n"
          ]
        }
      ]
    },
    {
      "cell_type": "markdown",
      "source": [
        "# 1. Find Free Slots"
      ],
      "metadata": {
        "id": "s37xvZl_TZzr"
      }
    },
    {
      "cell_type": "code",
      "source": [
        "free_slot_tool = composio_tool_set.get_tools(\n",
        "    actions = [Action.GOOGLECALENDAR_FIND_FREE_SLOTS ]\n",
        ")"
      ],
      "metadata": {
        "id": "tx88w6HSX3KE"
      },
      "execution_count": null,
      "outputs": []
    },
    {
      "cell_type": "code",
      "source": [
        "free_slot_tool"
      ],
      "metadata": {
        "colab": {
          "base_uri": "https://localhost:8080/"
        },
        "id": "Cz67zTFmFFZI",
        "outputId": "daf1025a-2594-4b90-b425-48a112da79d1"
      },
      "execution_count": null,
      "outputs": [
        {
          "output_type": "execute_result",
          "data": {
            "text/plain": [
              "[StructuredTool(name='GOOGLECALENDAR_FIND_FREE_SLOTS', description='Find Free Slots In A Google Calendar Based On For A Specific Time Period.', args_schema=<class 'composio.utils.shared.FindFreeSlotsRequest'>, func=<function ComposioToolSet._wrap_action.<locals>.function at 0x7dc5946a07c0>)]"
            ]
          },
          "metadata": {},
          "execution_count": 14
        }
      ]
    },
    {
      "cell_type": "code",
      "source": [
        "from langchain.agents import AgentExecutor, create_tool_calling_agent\n",
        "from langchain_core.prompts import ChatPromptTemplate\n",
        "from pprint import pprint\n",
        "\n",
        "llm = ChatGroq(model=\"llama-3.3-70b-versatile\", temperature=0)\n",
        "\n",
        "prompt = ChatPromptTemplate.from_messages(\n",
        "    [\n",
        "        (\"system\", \"You are an AI agent that is responsible for taking actions based on the tools you have\"),\n",
        "        (\"human\", \"{input}\"),\n",
        "        (\"placeholder\", \"{agent_scratchpad}\"),\n",
        "    ]\n",
        ")\n",
        "\n",
        "\n",
        "agent = create_tool_calling_agent(\n",
        "    llm = llm,\n",
        "    tools = free_slot_tool,\n",
        "    prompt = prompt,\n",
        ")\n",
        "\n",
        "agent_executor = AgentExecutor(\n",
        "    agent = agent,\n",
        "    tools = free_slot_tool,\n",
        "    verbose = True,\n",
        "    handle_parsing_errors = True,\n",
        "    # return_intermediate_steps = True\n",
        ")\n",
        "\n",
        "query = \"what are the free slots available on 2025-03-04. I am in IST timezone\"\n",
        "\n",
        "result = agent_executor.invoke({\"input\": query})\n",
        "\n",
        "pprint(result)\n",
        "\n",
        "pprint(result[\"output\"])"
      ],
      "metadata": {
        "colab": {
          "base_uri": "https://localhost:8080/"
        },
        "id": "fS2pe3NyX3Gk",
        "outputId": "6a65e208-5513-4d3c-d208-88c961d7ea1f"
      },
      "execution_count": null,
      "outputs": [
        {
          "output_type": "stream",
          "name": "stdout",
          "text": [
            "\n",
            "\n",
            "\u001b[1m> Entering new AgentExecutor chain...\u001b[0m\n",
            "\u001b[32;1m\u001b[1;3m\n",
            "Invoking: `GOOGLECALENDAR_FIND_FREE_SLOTS` with `{'time_min': '2025,03,04,00,00,00', 'time_max': '2025,03,04,23,59,59', 'timezone': 'Asia/Kolkata'}`\n",
            "\n",
            "\n",
            "\u001b[0m\u001b[36;1m\u001b[1;3m{'data': {'response_data': {'kind': 'calendar#freeBusy', 'timeMin': '2025-03-04T00:00:00.000Z', 'timeMax': '2025-03-04T23:59:59.000Z', 'calendars': {'primary': {'busy': [{'start': '2025-03-04T22:30:00+05:30', 'end': '2025-03-04T23:30:00+05:30', 'event': {'note': '', 'event_data': [{'kind': 'calendar#event', 'etag': '\"3481426081045214\"', 'id': '_clr78bap9gr7ad39e4q4qqr8d1s52pq0clr6arjkecn6ot9edlgg', 'status': 'confirmed', 'htmlLink': 'https://www.google.com/calendar/event?eid=X2Nscjc4YmFwOWdyN2FkMzllNHE0cXFyOGQxczUycHEwY2xyNmFyamtlY242b3Q5ZWRsZ2cgdGFubmFwcmFzYW50aGt1bWFyNzZAbQ', 'created': '2025-02-28T03:17:03.000Z', 'updated': '2025-02-28T03:24:00.522Z', 'summary': 'CodeSandbox SDK: How To Build AI Coding Agents', 'description': 'Get up-to-date information at: https://lu.ma/e/evt-YL6u4iq4MkhhxQg?pk=g-oS7Eju49uSGZX8j\\n\\nCode generation and agentic workflows have quickly become one of the most popular use cases for LLMs.\\nCodeSandbox SDK addresses one of the main limitations of LLMs: allowing them to execute the code they write by using fast, secure sandboxes at scale.\\nJoin Ives van Hoorne, creator of CodeSandbox SDK, along with Blackbox AI founders Robert Rizk and Richard Rizk, as they share how Blackbox AI leverages this technology to power secure code execution for 10 million+ monthly users.\\nIn this webinar, we will cover:\\nHow CodeSandbox SDK works and how to use it to create coding environments for AI.\\nHow…\\n\\nHosted by Together AI', 'location': 'https://lu.ma/join/g-oS7Eju49uSGZX8j', 'creator': {'email': 'tannaprasanthkumar76@gmail.com', 'self': True}, 'organizer': {'email': 'calendar-invite@lu.ma', 'displayName': 'Together AI'}, 'start': {'dateTime': '2025-03-04T17:00:00Z', 'timeZone': 'UTC'}, 'end': {'dateTime': '2025-03-04T18:00:00Z', 'timeZone': 'UTC'}, 'iCalUID': 'evt-YL6u4iq4MkhhxQg@events.lu.ma', 'sequence': 0, 'attendees': [{'email': 'tannaprasanthkumar76@gmail.com', 'self': True, 'responseStatus': 'accepted'}], 'guestsCanInviteOthers': False, 'privateCopy': True, 'reminders': {'useDefault': True}, 'eventType': 'default'}], 'nextPageToken': None, 'nextSyncToken': 'CM_RsKiN64sDEM_RsKiN64sDGAUgouSj2gIoouSj2gI='}}]}}}}, 'error': None, 'successfull': True, 'successful': True}\u001b[0m\u001b[32;1m\u001b[1;3mThe free slots available on 2025-03-04 in the IST timezone are:\n",
            "\n",
            "* 00:00:00 - 22:30:00\n",
            "* 23:30:00 - 23:59:59\n",
            "\n",
            "Note that there is a busy slot from 22:30:00 to 23:30:00 due to an event titled \"CodeSandbox SDK: How To Build AI Coding Agents\".\u001b[0m\n",
            "\n",
            "\u001b[1m> Finished chain.\u001b[0m\n",
            "{'input': 'what are the free slots available on 2025-03-04. I am in IST '\n",
            "          'timezone',\n",
            " 'output': 'The free slots available on 2025-03-04 in the IST timezone are:\\n'\n",
            "           '\\n'\n",
            "           '* 00:00:00 - 22:30:00\\n'\n",
            "           '* 23:30:00 - 23:59:59\\n'\n",
            "           '\\n'\n",
            "           'Note that there is a busy slot from 22:30:00 to 23:30:00 due to an '\n",
            "           'event titled \"CodeSandbox SDK: How To Build AI Coding Agents\".'}\n"
          ]
        }
      ]
    },
    {
      "cell_type": "code",
      "source": [
        "pprint(result['output'])"
      ],
      "metadata": {
        "colab": {
          "base_uri": "https://localhost:8080/"
        },
        "id": "eG-3eyLOIDSm",
        "outputId": "f3d59685-8710-4ef1-bb32-5f8968dabe06"
      },
      "execution_count": null,
      "outputs": [
        {
          "output_type": "stream",
          "name": "stdout",
          "text": [
            "('The free slots available on 2025-03-04 in the IST timezone are:\\n'\n",
            " '\\n'\n",
            " '* 00:00:00 - 22:30:00\\n'\n",
            " '* 23:30:00 - 23:59:59\\n'\n",
            " '\\n'\n",
            " 'Note that there is a busy slot from 22:30:00 to 23:30:00 due to an event '\n",
            " 'titled \"CodeSandbox SDK: How To Build AI Coding Agents\".')\n"
          ]
        }
      ]
    },
    {
      "cell_type": "markdown",
      "source": [
        "# 2. Create Events"
      ],
      "metadata": {
        "id": "Haff7TbjIYhc"
      }
    },
    {
      "cell_type": "code",
      "source": [
        "create_Event_tool = composio_tool_set.get_tools(\n",
        "    actions = [Action.GOOGLECALENDAR_CREATE_EVENT]\n",
        ")"
      ],
      "metadata": {
        "id": "ngHf0oD0IWYw"
      },
      "execution_count": null,
      "outputs": []
    },
    {
      "cell_type": "code",
      "source": [
        "from langchain.agents import AgentExecutor, create_tool_calling_agent\n",
        "from langchain_core.prompts import ChatPromptTemplate\n",
        "from pprint import pprint\n",
        "from langchain_google_genai import ChatGoogleGenerativeAI\n",
        "\n",
        "os.environ[\"GOOGLE_API_KEY\"] = userdata.get(\"GOOGLE_API_KEY\")\n",
        "\n",
        "llm = ChatGoogleGenerativeAI(\n",
        "    model=\"gemini-1.5-pro\",\n",
        "    temperature=0,\n",
        "    max_tokens=None,\n",
        "    timeout=None,\n",
        "    max_retries=2,\n",
        ")\n",
        "\n",
        "prompt = ChatPromptTemplate.from_messages(\n",
        "    [\n",
        "        (\"system\", \"You are an AI agent that is responsible for taking actions based on the tools you have\"),\n",
        "        (\"human\", \"{input}\"),\n",
        "        (\"placeholder\", \"{agent_scratchpad}\"),\n",
        "    ]\n",
        ")\n",
        "\n",
        "agent = create_tool_calling_agent(\n",
        "    llm = llm,\n",
        "    tools = create_Event_tool,\n",
        "    prompt = prompt,\n",
        ")\n",
        "\n",
        "agent_executor = AgentExecutor(\n",
        "    agent = agent,\n",
        "    tools = create_Event_tool,\n",
        "    verbose = True,\n",
        "    handle_parsing_errors = True,\n",
        "    # return_intermediate_steps = True\n",
        ")\n",
        "\n",
        "query = \"Create an event between 6 to 7pm on march 3rd 2025 regarding about the Interiew\"\n",
        "\n",
        "result = agent_executor.invoke({\"input\": query})\n",
        "\n",
        "pprint(result)\n",
        "\n",
        "#pprint(result[\"output\"])"
      ],
      "metadata": {
        "colab": {
          "base_uri": "https://localhost:8080/"
        },
        "id": "uBKVkXaaIvsS",
        "outputId": "e0fe30fb-91ff-4d3a-ef58-58520f46cdcd"
      },
      "execution_count": null,
      "outputs": [
        {
          "output_type": "stream",
          "name": "stdout",
          "text": [
            "\n",
            "\n",
            "\u001b[1m> Entering new AgentExecutor chain...\u001b[0m\n",
            "\u001b[32;1m\u001b[1;3m\n",
            "Invoking: `GOOGLECALENDAR_CREATE_EVENT` with `{'event_duration_hour': 1.0, 'summary': 'Interiew', 'start_datetime': '2025-03-03T18:00:00'}`\n",
            "\n",
            "\n",
            "\u001b[0m\u001b[36;1m\u001b[1;3m{'data': {'response_data': {'kind': 'calendar#event', 'etag': '\"3481983002617758\"', 'id': 'qdqepaejcbj2frke34satppgsg', 'status': 'confirmed', 'htmlLink': 'https://www.google.com/calendar/event?eid=cWRxZXBhZWpjYmoyZnJrZTM0c2F0cHBnc2cgdGFubmFwcmFzYW50aGt1bWFyNzZAbQ', 'created': '2025-03-03T08:45:01.000Z', 'updated': '2025-03-03T08:45:01.308Z', 'summary': 'Interiew', 'creator': {'email': 'tannaprasanthkumar76@gmail.com', 'self': True}, 'organizer': {'email': 'tannaprasanthkumar76@gmail.com', 'self': True}, 'start': {'dateTime': '2025-03-03T18:00:00Z', 'timeZone': 'UTC'}, 'end': {'dateTime': '2025-03-03T19:00:00Z', 'timeZone': 'UTC'}, 'iCalUID': 'qdqepaejcbj2frke34satppgsg@google.com', 'sequence': 0, 'reminders': {'useDefault': True}, 'eventType': 'default'}}, 'error': None, 'successfull': True, 'successful': True}\u001b[0m\u001b[32;1m\u001b[1;3mOK. I've created an event titled \"Interiew\" for you on March 3, 2025, from 6 PM to 7 PM.  Is there anything else?\u001b[0m\n",
            "\n",
            "\u001b[1m> Finished chain.\u001b[0m\n",
            "{'input': 'Create an event between 6 to 7pm on march 3rd 2025 regarding about '\n",
            "          'the Interiew',\n",
            " 'output': 'OK. I\\'ve created an event titled \"Interiew\" for you on March 3, '\n",
            "           '2025, from 6 PM to 7 PM.  Is there anything else?'}\n"
          ]
        }
      ]
    },
    {
      "cell_type": "markdown",
      "source": [
        "# 3. Find Events"
      ],
      "metadata": {
        "id": "EVVswCMpMyGV"
      }
    },
    {
      "cell_type": "code",
      "source": [
        "Find_Event_tool = composio_tool_set.get_tools(\n",
        "    actions = [Action.GOOGLECALENDAR_FIND_EVENT]\n",
        ")"
      ],
      "metadata": {
        "id": "rCLhx_b_MrEs"
      },
      "execution_count": null,
      "outputs": []
    },
    {
      "cell_type": "code",
      "source": [
        "from langchain.agents import AgentExecutor, create_tool_calling_agent\n",
        "from langchain_core.prompts import ChatPromptTemplate\n",
        "from pprint import pprint\n",
        "from langchain_google_genai import ChatGoogleGenerativeAI\n",
        "\n",
        "os.environ[\"GOOGLE_API_KEY\"] = userdata.get(\"GOOGLE_API_KEY\")\n",
        "\n",
        "llm = ChatGoogleGenerativeAI(\n",
        "    model=\"gemini-1.5-pro\",\n",
        "    temperature=0,\n",
        "    max_tokens=None,\n",
        "    timeout=None,\n",
        "    max_retries=2,\n",
        ")\n",
        "\n",
        "prompt = ChatPromptTemplate.from_messages(\n",
        "    [\n",
        "        (\"system\", \"You are an AI agent that is responsible for taking actions based on the tools you have\"),\n",
        "        (\"human\", \"{input}\"),\n",
        "        (\"placeholder\", \"{agent_scratchpad}\"),\n",
        "    ]\n",
        ")\n",
        "\n",
        "agent = create_tool_calling_agent(\n",
        "    llm = llm,\n",
        "    tools = Find_Event_tool,\n",
        "    prompt = prompt,\n",
        ")\n",
        "\n",
        "agent_executor = AgentExecutor(\n",
        "    agent = agent,\n",
        "    tools = Find_Event_tool,\n",
        "    verbose = True,\n",
        "    handle_parsing_errors = True,\n",
        "    # return_intermediate_steps = True\n",
        ")\n",
        "\n",
        "query = \"Do I have any events on on 2025-03-04, use IST?\"\n",
        "\n",
        "result = agent_executor.invoke({\"input\": query})\n",
        "\n",
        "pprint(result)\n",
        "\n",
        "#pprint(result[\"output\"])"
      ],
      "metadata": {
        "colab": {
          "base_uri": "https://localhost:8080/"
        },
        "id": "ZDe6z2rePwGa",
        "outputId": "b7eb45be-3115-40d3-f10f-4a6b8b505a08"
      },
      "execution_count": null,
      "outputs": [
        {
          "output_type": "stream",
          "name": "stdout",
          "text": [
            "\n",
            "\n",
            "\u001b[1m> Entering new AgentExecutor chain...\u001b[0m\n",
            "\u001b[32;1m\u001b[1;3m\n",
            "Invoking: `GOOGLECALENDAR_FIND_EVENT` with `{'timeMin': '2025-03-04T00:00:00+05:30', 'calendar_id': 'primary', 'singleEvents': True, 'timeMax': '2025-03-05T00:00:00+05:30'}`\n",
            "\n",
            "\n",
            "\u001b[0m\u001b[36;1m\u001b[1;3m{'data': {'event_data': {'note': '', 'event_data': [{'kind': 'calendar#event', 'etag': '\"3481426081045214\"', 'id': '_clr78bap9gr7ad39e4q4qqr8d1s52pq0clr6arjkecn6ot9edlgg', 'status': 'confirmed', 'htmlLink': 'https://www.google.com/calendar/event?eid=X2Nscjc4YmFwOWdyN2FkMzllNHE0cXFyOGQxczUycHEwY2xyNmFyamtlY242b3Q5ZWRsZ2cgdGFubmFwcmFzYW50aGt1bWFyNzZAbQ', 'created': '2025-02-28T03:17:03.000Z', 'updated': '2025-02-28T03:24:00.522Z', 'summary': 'CodeSandbox SDK: How To Build AI Coding Agents', 'description': 'Get up-to-date information at: https://lu.ma/e/evt-YL6u4iq4MkhhxQg?pk=g-oS7Eju49uSGZX8j\\n\\nCode generation and agentic workflows have quickly become one of the most popular use cases for LLMs.\\nCodeSandbox SDK addresses one of the main limitations of LLMs: allowing them to execute the code they write by using fast, secure sandboxes at scale.\\nJoin Ives van Hoorne, creator of CodeSandbox SDK, along with Blackbox AI founders Robert Rizk and Richard Rizk, as they share how Blackbox AI leverages this technology to power secure code execution for 10 million+ monthly users.\\nIn this webinar, we will cover:\\nHow CodeSandbox SDK works and how to use it to create coding environments for AI.\\nHow…\\n\\nHosted by Together AI', 'location': 'https://lu.ma/join/g-oS7Eju49uSGZX8j', 'creator': {'email': 'tannaprasanthkumar76@gmail.com', 'self': True}, 'organizer': {'email': 'calendar-invite@lu.ma', 'displayName': 'Together AI'}, 'start': {'dateTime': '2025-03-04T17:00:00Z', 'timeZone': 'UTC'}, 'end': {'dateTime': '2025-03-04T18:00:00Z', 'timeZone': 'UTC'}, 'iCalUID': 'evt-YL6u4iq4MkhhxQg@events.lu.ma', 'sequence': 0, 'attendees': [{'email': 'tannaprasanthkumar76@gmail.com', 'self': True, 'responseStatus': 'accepted'}], 'guestsCanInviteOthers': False, 'privateCopy': True, 'reminders': {'useDefault': True}, 'eventType': 'default'}, {'kind': 'calendar#event', 'etag': '\"3481983002617758\"', 'id': 'qdqepaejcbj2frke34satppgsg', 'status': 'confirmed', 'htmlLink': 'https://www.google.com/calendar/event?eid=cWRxZXBhZWpjYmoyZnJrZTM0c2F0cHBnc2cgdGFubmFwcmFzYW50aGt1bWFyNzZAbQ', 'created': '2025-03-03T08:45:01.000Z', 'updated': '2025-03-03T08:45:01.308Z', 'summary': 'Interiew', 'creator': {'email': 'tannaprasanthkumar76@gmail.com', 'self': True}, 'organizer': {'email': 'tannaprasanthkumar76@gmail.com', 'self': True}, 'start': {'dateTime': '2025-03-03T18:00:00Z', 'timeZone': 'UTC'}, 'end': {'dateTime': '2025-03-03T19:00:00Z', 'timeZone': 'UTC'}, 'iCalUID': 'qdqepaejcbj2frke34satppgsg@google.com', 'sequence': 0, 'reminders': {'useDefault': True}, 'eventType': 'default'}], 'nextPageToken': None, 'nextSyncToken': 'CM-n-N_C7YsDEM-n-N_C7YsDGAUgouSj2gIoouSj2gI='}}, 'error': None, 'successfull': True, 'successful': True}\u001b[0m\u001b[32;1m\u001b[1;3mYes, you have two events on March 4, 2025:\n",
            "\n",
            "1.  **CodeSandbox SDK: How To Build AI Coding Agents:** This event is from 5:30 PM to 6:30 PM IST.\n",
            "2.  **Interiew:** This event is from 1:30 AM to 2:30 AM IST.\u001b[0m\n",
            "\n",
            "\u001b[1m> Finished chain.\u001b[0m\n",
            "{'input': 'Do I have any events on on 2025-03-04, use IST?',\n",
            " 'output': 'Yes, you have two events on March 4, 2025:\\n'\n",
            "           '\\n'\n",
            "           '1.  **CodeSandbox SDK: How To Build AI Coding Agents:** This event '\n",
            "           'is from 5:30 PM to 6:30 PM IST.\\n'\n",
            "           '2.  **Interiew:** This event is from 1:30 AM to 2:30 AM IST.'}\n"
          ]
        }
      ]
    },
    {
      "cell_type": "code",
      "source": [],
      "metadata": {
        "id": "v6npEeNgQcaF"
      },
      "execution_count": null,
      "outputs": []
    }
  ]
}